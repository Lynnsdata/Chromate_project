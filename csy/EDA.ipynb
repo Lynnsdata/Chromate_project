{
 "cells": [
  {
   "cell_type": "markdown",
   "metadata": {},
   "source": [
    "# 데이터 탐색"
   ]
  },
  {
   "cell_type": "markdown",
   "metadata": {},
   "source": [
    "## 공정 환경변수 csv"
   ]
  },
  {
   "cell_type": "markdown",
   "metadata": {},
   "source": [
    "1. 패키지 import"
   ]
  },
  {
   "cell_type": "code",
   "execution_count": 3,
   "metadata": {},
   "outputs": [],
   "source": [
    "# 기본 패키지\n",
    "import pandas as pd\n",
    "import numpy as np\n",
    "\n",
    "# 디렉토리 관련 패키지\n",
    "import os\n",
    "import glob\n",
    "import natsort"
   ]
  },
  {
   "cell_type": "code",
   "execution_count": 2,
   "metadata": {},
   "outputs": [
    {
     "name": "stdout",
     "output_type": "stream",
     "text": [
      "Collecting natsort\n",
      "  Downloading natsort-8.2.0-py3-none-any.whl (37 kB)\n",
      "Installing collected packages: natsort\n",
      "Successfully installed natsort-8.2.0\n"
     ]
    },
    {
     "name": "stderr",
     "output_type": "stream",
     "text": [
      "\n",
      "[notice] A new release of pip available: 22.2.2 -> 22.3\n",
      "[notice] To update, run: python.exe -m pip install --upgrade pip\n"
     ]
    }
   ],
   "source": [
    "# natsort 설치\n",
    "# !pip install natsort"
   ]
  },
  {
   "cell_type": "markdown",
   "metadata": {},
   "source": [
    "2. 공정 환경변수 csv 파일 가져오기"
   ]
  },
  {
   "cell_type": "code",
   "execution_count": 30,
   "metadata": {},
   "outputs": [
    {
     "data": {
      "text/plain": [
       "['kemp-abh-sensor-2021.09.06.csv',\n",
       " 'kemp-abh-sensor-2021.09.07.csv',\n",
       " 'kemp-abh-sensor-2021.09.08.csv',\n",
       " 'kemp-abh-sensor-2021.09.09.csv',\n",
       " 'kemp-abh-sensor-2021.09.10.csv',\n",
       " 'kemp-abh-sensor-2021.09.13.csv',\n",
       " 'kemp-abh-sensor-2021.09.14.csv',\n",
       " 'kemp-abh-sensor-2021.09.15.csv',\n",
       " 'kemp-abh-sensor-2021.09.16.csv',\n",
       " 'kemp-abh-sensor-2021.09.17.csv',\n",
       " 'kemp-abh-sensor-2021.09.23.csv',\n",
       " 'kemp-abh-sensor-2021.09.24.csv',\n",
       " 'kemp-abh-sensor-2021.09.27.csv',\n",
       " 'kemp-abh-sensor-2021.09.28.csv',\n",
       " 'kemp-abh-sensor-2021.09.29.csv',\n",
       " 'kemp-abh-sensor-2021.09.30.csv',\n",
       " 'kemp-abh-sensor-2021.10.01.csv',\n",
       " 'kemp-abh-sensor-2021.10.05.csv',\n",
       " 'kemp-abh-sensor-2021.10.06.csv',\n",
       " 'kemp-abh-sensor-2021.10.07.csv',\n",
       " 'kemp-abh-sensor-2021.10.08.csv',\n",
       " 'kemp-abh-sensor-2021.10.12.csv',\n",
       " 'kemp-abh-sensor-2021.10.13.csv',\n",
       " 'kemp-abh-sensor-2021.10.14.csv',\n",
       " 'kemp-abh-sensor-2021.10.15.csv',\n",
       " 'kemp-abh-sensor-2021.10.18.csv',\n",
       " 'kemp-abh-sensor-2021.10.19.csv',\n",
       " 'kemp-abh-sensor-2021.10.20.csv',\n",
       " 'kemp-abh-sensor-2021.10.21.csv',\n",
       " 'kemp-abh-sensor-2021.10.22.csv',\n",
       " 'kemp-abh-sensor-2021.10.25.csv',\n",
       " 'kemp-abh-sensor-2021.10.26.csv',\n",
       " 'kemp-abh-sensor-2021.10.27.csv']"
      ]
     },
     "execution_count": 30,
     "metadata": {},
     "output_type": "execute_result"
    }
   ],
   "source": [
    "# 역슬래시를 r로 처리\n",
    "var_path = r'C:\\Users\\admin\\Desktop\\FinalProject\\ChromateData\\data\\variable\\\\'\n",
    "# 파일을 순서대로 정렬\n",
    "var_list = natsort.natsorted(os.listdir(var_path))\n",
    "# 폴더안에 csv파일만 불러오기\n",
    "var_list = [file for file in var_list if file.endswith('.csv')]\n",
    "var_list"
   ]
  },
  {
   "cell_type": "markdown",
   "metadata": {},
   "source": [
    "3. Date 컬럼 생성 준비"
   ]
  },
  {
   "cell_type": "code",
   "execution_count": 31,
   "metadata": {},
   "outputs": [
    {
     "name": "stdout",
     "output_type": "stream",
     "text": [
      "2021-09-06\n",
      "2021-09-07\n",
      "2021-09-08\n",
      "2021-09-09\n",
      "2021-09-10\n",
      "2021-09-13\n",
      "2021-09-14\n",
      "2021-09-15\n",
      "2021-09-16\n",
      "2021-09-17\n",
      "2021-09-23\n",
      "2021-09-24\n",
      "2021-09-27\n",
      "2021-09-28\n",
      "2021-09-29\n",
      "2021-09-30\n",
      "2021-10-01\n",
      "2021-10-05\n",
      "2021-10-06\n",
      "2021-10-07\n",
      "2021-10-08\n",
      "2021-10-12\n",
      "2021-10-13\n",
      "2021-10-14\n",
      "2021-10-15\n",
      "2021-10-18\n",
      "2021-10-19\n",
      "2021-10-20\n",
      "2021-10-21\n",
      "2021-10-22\n",
      "2021-10-25\n",
      "2021-10-26\n",
      "2021-10-27\n"
     ]
    }
   ],
   "source": [
    "# 파일 이름에서 날짜만 가져오기\n",
    "# Error Lot list의 날짜가 '-'로 되어있어서 '.' → '-'로 바꿔주기\n",
    "for file in var_list:\n",
    "    date = file.split('-')[-1].replace('.','-')\n",
    "    # removesuffix로 뒤의 '-csv' 제거\n",
    "    # removeprefix는 접두사 제거할 때 쓴다\n",
    "    date = date.removesuffix('-csv')\n",
    "    print(date)"
   ]
  },
  {
   "cell_type": "markdown",
   "metadata": {},
   "source": [
    "4. csv 데이터를 하나의 데이터프레임으로 만들기"
   ]
  },
  {
   "cell_type": "code",
   "execution_count": 32,
   "metadata": {},
   "outputs": [
    {
     "data": {
      "text/html": [
       "<div>\n",
       "<style scoped>\n",
       "    .dataframe tbody tr th:only-of-type {\n",
       "        vertical-align: middle;\n",
       "    }\n",
       "\n",
       "    .dataframe tbody tr th {\n",
       "        vertical-align: top;\n",
       "    }\n",
       "\n",
       "    .dataframe thead th {\n",
       "        text-align: right;\n",
       "    }\n",
       "</style>\n",
       "<table border=\"1\" class=\"dataframe\">\n",
       "  <thead>\n",
       "    <tr style=\"text-align: right;\">\n",
       "      <th></th>\n",
       "      <th>Index</th>\n",
       "      <th>Date</th>\n",
       "      <th>Time</th>\n",
       "      <th>Lot</th>\n",
       "      <th>pH</th>\n",
       "      <th>Temp</th>\n",
       "      <th>Voltage</th>\n",
       "    </tr>\n",
       "  </thead>\n",
       "  <tbody>\n",
       "  </tbody>\n",
       "</table>\n",
       "</div>"
      ],
      "text/plain": [
       "Empty DataFrame\n",
       "Columns: [Index, Date, Time, Lot, pH, Temp, Voltage]\n",
       "Index: []"
      ]
     },
     "execution_count": 32,
     "metadata": {},
     "output_type": "execute_result"
    }
   ],
   "source": [
    "# df들을 넣을 수 있도록 빈 데이터프레임 만들어주기\n",
    "var_df = pd.DataFrame(columns=['Index', 'Date', 'Time', 'Lot', 'pH', 'Temp', 'Voltage'])\n",
    "var_df"
   ]
  },
  {
   "cell_type": "code",
   "execution_count": 33,
   "metadata": {},
   "outputs": [],
   "source": [
    "for file in var_list:\n",
    "    # 4-1 csv파일 반복문으로 불러오기\n",
    "    df = pd.read_csv(var_path + file)\n",
    "    # 4-2 Date 컬럼 생성\n",
    "    date = file.split('-')[-1].replace('.','-')\n",
    "    date = date.removesuffix('-csv')\n",
    "    df['Date']\n",
    "    "
   ]
  },
  {
   "cell_type": "markdown",
   "metadata": {},
   "source": [
    "나중에 가이드북에 있는 방법으로 해보기"
   ]
  },
  {
   "cell_type": "markdown",
   "metadata": {},
   "source": [
    "1. 패키지 import"
   ]
  },
  {
   "cell_type": "code",
   "execution_count": 1,
   "metadata": {},
   "outputs": [],
   "source": [
    "# 기본 패키지\n",
    "import pandas as pd\n",
    "import numpy as np\n",
    "import datetime\n",
    "\n",
    "# 디렉토리 관련 패키지\n",
    "import os\n",
    "import glob"
   ]
  },
  {
   "cell_type": "markdown",
   "metadata": {},
   "source": [
    "2. 공정 환경변수 csv 파일 불러오기"
   ]
  },
  {
   "cell_type": "code",
   "execution_count": 3,
   "metadata": {},
   "outputs": [
    {
     "name": "stdout",
     "output_type": "stream",
     "text": [
      "File Lists : ['Error Lot list.csv', 'kemp-abh-sensor-2021.09.06.csv', 'kemp-abh-sensor-2021.09.07.csv', 'kemp-abh-sensor-2021.09.08.csv', 'kemp-abh-sensor-2021.09.09.csv', 'kemp-abh-sensor-2021.09.10.csv', 'kemp-abh-sensor-2021.09.13.csv', 'kemp-abh-sensor-2021.09.14.csv', 'kemp-abh-sensor-2021.09.15.csv', 'kemp-abh-sensor-2021.09.16.csv', 'kemp-abh-sensor-2021.09.17.csv', 'kemp-abh-sensor-2021.09.23.csv', 'kemp-abh-sensor-2021.09.24.csv', 'kemp-abh-sensor-2021.09.27.csv', 'kemp-abh-sensor-2021.09.28.csv', 'kemp-abh-sensor-2021.09.29.csv', 'kemp-abh-sensor-2021.09.30.csv', 'kemp-abh-sensor-2021.10.01.csv', 'kemp-abh-sensor-2021.10.05.csv', 'kemp-abh-sensor-2021.10.06.csv', 'kemp-abh-sensor-2021.10.07.csv', 'kemp-abh-sensor-2021.10.08.csv', 'kemp-abh-sensor-2021.10.12.csv', 'kemp-abh-sensor-2021.10.13.csv', 'kemp-abh-sensor-2021.10.14.csv', 'kemp-abh-sensor-2021.10.15.csv', 'kemp-abh-sensor-2021.10.18.csv', 'kemp-abh-sensor-2021.10.19.csv', 'kemp-abh-sensor-2021.10.20.csv', 'kemp-abh-sensor-2021.10.21.csv', 'kemp-abh-sensor-2021.10.22.csv', 'kemp-abh-sensor-2021.10.25.csv', 'kemp-abh-sensor-2021.10.26.csv', 'kemp-abh-sensor-2021.10.27.csv']\n"
     ]
    }
   ],
   "source": [
    "# 역슬래시 r로 처리\n",
    "root_dir = r'C:\\localRepository\\Bigdata_busan\\csy\\res\\variable\\\\'\n",
    "f_lists = os.listdir(root_dir)\n",
    "print('File Lists :', f_lists)"
   ]
  },
  {
   "cell_type": "code",
   "execution_count": 5,
   "metadata": {},
   "outputs": [
    {
     "name": "stdout",
     "output_type": "stream",
     "text": [
      "File Lists : ['Error Lot list.csv', 'kemp-abh-sensor-2021.09.06.csv', 'kemp-abh-sensor-2021.09.07.csv', 'kemp-abh-sensor-2021.09.08.csv', 'kemp-abh-sensor-2021.09.09.csv', 'kemp-abh-sensor-2021.09.10.csv', 'kemp-abh-sensor-2021.09.13.csv', 'kemp-abh-sensor-2021.09.14.csv', 'kemp-abh-sensor-2021.09.15.csv', 'kemp-abh-sensor-2021.09.16.csv', 'kemp-abh-sensor-2021.09.17.csv', 'kemp-abh-sensor-2021.09.23.csv', 'kemp-abh-sensor-2021.09.24.csv', 'kemp-abh-sensor-2021.09.27.csv', 'kemp-abh-sensor-2021.09.28.csv', 'kemp-abh-sensor-2021.09.29.csv', 'kemp-abh-sensor-2021.09.30.csv', 'kemp-abh-sensor-2021.10.01.csv', 'kemp-abh-sensor-2021.10.05.csv', 'kemp-abh-sensor-2021.10.06.csv', 'kemp-abh-sensor-2021.10.07.csv', 'kemp-abh-sensor-2021.10.08.csv', 'kemp-abh-sensor-2021.10.12.csv', 'kemp-abh-sensor-2021.10.13.csv', 'kemp-abh-sensor-2021.10.14.csv', 'kemp-abh-sensor-2021.10.15.csv', 'kemp-abh-sensor-2021.10.18.csv', 'kemp-abh-sensor-2021.10.19.csv', 'kemp-abh-sensor-2021.10.20.csv', 'kemp-abh-sensor-2021.10.21.csv', 'kemp-abh-sensor-2021.10.22.csv', 'kemp-abh-sensor-2021.10.25.csv', 'kemp-abh-sensor-2021.10.26.csv', 'kemp-abh-sensor-2021.10.27.csv']\n"
     ]
    }
   ],
   "source": [
    "# 파일 리스트에서 '.csv'로 끝나는 파일만 새로운 리스트로 구성\n",
    "new_file_lists = [f for f in f_lists if f.endswith('.csv')]\n",
    "print('File Lists :', new_file_lists)"
   ]
  },
  {
   "cell_type": "code",
   "execution_count": 6,
   "metadata": {},
   "outputs": [
    {
     "name": "stdout",
     "output_type": "stream",
     "text": [
      "Data Lista : ['kemp-abh-sensor-2021.09.06.csv', 'kemp-abh-sensor-2021.09.07.csv', 'kemp-abh-sensor-2021.09.08.csv', 'kemp-abh-sensor-2021.09.09.csv', 'kemp-abh-sensor-2021.09.10.csv', 'kemp-abh-sensor-2021.09.13.csv', 'kemp-abh-sensor-2021.09.14.csv', 'kemp-abh-sensor-2021.09.15.csv', 'kemp-abh-sensor-2021.09.16.csv', 'kemp-abh-sensor-2021.09.17.csv', 'kemp-abh-sensor-2021.09.23.csv', 'kemp-abh-sensor-2021.09.24.csv', 'kemp-abh-sensor-2021.09.27.csv', 'kemp-abh-sensor-2021.09.28.csv', 'kemp-abh-sensor-2021.09.29.csv', 'kemp-abh-sensor-2021.09.30.csv', 'kemp-abh-sensor-2021.10.01.csv', 'kemp-abh-sensor-2021.10.05.csv', 'kemp-abh-sensor-2021.10.06.csv', 'kemp-abh-sensor-2021.10.07.csv', 'kemp-abh-sensor-2021.10.08.csv', 'kemp-abh-sensor-2021.10.12.csv', 'kemp-abh-sensor-2021.10.13.csv', 'kemp-abh-sensor-2021.10.14.csv', 'kemp-abh-sensor-2021.10.15.csv', 'kemp-abh-sensor-2021.10.18.csv', 'kemp-abh-sensor-2021.10.19.csv', 'kemp-abh-sensor-2021.10.20.csv', 'kemp-abh-sensor-2021.10.21.csv', 'kemp-abh-sensor-2021.10.22.csv', 'kemp-abh-sensor-2021.10.25.csv', 'kemp-abh-sensor-2021.10.26.csv', 'kemp-abh-sensor-2021.10.27.csv']\n",
      "Error Data List : Error Lot list.csv\n"
     ]
    }
   ],
   "source": [
    "# Input과 Output으로 사용될 데이터를 슬라이싱을 통해 지정\n",
    "data_lists = new_file_lists[1:]\n",
    "error_list = new_file_lists[0]\n",
    "print('Data Lista :', data_lists)\n",
    "print('Error Data List :', error_list)"
   ]
  },
  {
   "cell_type": "markdown",
   "metadata": {},
   "source": [
    "3. 데이터 가져오기 위한 function 정의"
   ]
  },
  {
   "cell_type": "code",
   "execution_count": null,
   "metadata": {},
   "outputs": [],
   "source": [
    "def csv_read_(data_dir, data_list):\n",
    "    tmp = pd.read_csv(os.path.join(data_dir, data_list), sep=',', encoding='cp949')\n",
    "    y, m, d = map(int, data_list.split('-')[-1].split('.')[:-1])"
   ]
  }
 ],
 "metadata": {
  "kernelspec": {
   "display_name": "Python 3.10.5 64-bit",
   "language": "python",
   "name": "python3"
  },
  "language_info": {
   "codemirror_mode": {
    "name": "ipython",
    "version": 3
   },
   "file_extension": ".py",
   "mimetype": "text/x-python",
   "name": "python",
   "nbconvert_exporter": "python",
   "pygments_lexer": "ipython3",
   "version": "3.10.5"
  },
  "orig_nbformat": 4,
  "vscode": {
   "interpreter": {
    "hash": "beedbe2faf2f7048d727558d0bc3221e7eba2a0b921cac4d4771b2feb8f74b30"
   }
  }
 },
 "nbformat": 4,
 "nbformat_minor": 2
}
