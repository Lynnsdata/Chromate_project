{
 "cells": [
  {
   "cell_type": "markdown",
   "metadata": {},
   "source": [
    "## 1. 패키지 import"
   ]
  },
  {
   "cell_type": "code",
   "execution_count": 2,
   "metadata": {},
   "outputs": [],
   "source": [
    "# 기본 패키지\n",
    "import pandas as pd\n",
    "import numpy as np\n",
    "import datetime\n",
    "\n",
    "# 디렉토리 관련 패키지\n",
    "import os\n",
    "import glob\n",
    "\n",
    "# 시각화 관련 패키지\n",
    "import seaborn as sns"
   ]
  },
  {
   "cell_type": "code",
   "execution_count": 5,
   "metadata": {},
   "outputs": [
    {
     "data": {
      "text/html": [
       "<div>\n",
       "<style scoped>\n",
       "    .dataframe tbody tr th:only-of-type {\n",
       "        vertical-align: middle;\n",
       "    }\n",
       "\n",
       "    .dataframe tbody tr th {\n",
       "        vertical-align: top;\n",
       "    }\n",
       "\n",
       "    .dataframe thead th {\n",
       "        text-align: right;\n",
       "    }\n",
       "</style>\n",
       "<table border=\"1\" class=\"dataframe\">\n",
       "  <thead>\n",
       "    <tr style=\"text-align: right;\">\n",
       "      <th></th>\n",
       "      <th>Time</th>\n",
       "      <th>pH</th>\n",
       "      <th>Temp</th>\n",
       "      <th>Voltage</th>\n",
       "      <th>DTime</th>\n",
       "    </tr>\n",
       "    <tr>\n",
       "      <th>Lot</th>\n",
       "      <th></th>\n",
       "      <th></th>\n",
       "      <th></th>\n",
       "      <th></th>\n",
       "      <th></th>\n",
       "    </tr>\n",
       "  </thead>\n",
       "  <tbody>\n",
       "    <tr>\n",
       "      <th>1</th>\n",
       "      <td>2021-09-06 16:29:54.000</td>\n",
       "      <td>2.15</td>\n",
       "      <td>43.15</td>\n",
       "      <td>19.74</td>\n",
       "      <td>2021-09-06</td>\n",
       "    </tr>\n",
       "    <tr>\n",
       "      <th>1</th>\n",
       "      <td>2021-09-06 16:29:59.000</td>\n",
       "      <td>2.08</td>\n",
       "      <td>40.13</td>\n",
       "      <td>18.01</td>\n",
       "      <td>2021-09-06</td>\n",
       "    </tr>\n",
       "    <tr>\n",
       "      <th>1</th>\n",
       "      <td>2021-09-06 16:30:04.000</td>\n",
       "      <td>2.18</td>\n",
       "      <td>43.46</td>\n",
       "      <td>18.73</td>\n",
       "      <td>2021-09-06</td>\n",
       "    </tr>\n",
       "    <tr>\n",
       "      <th>1</th>\n",
       "      <td>2021-09-06 16:30:09.000</td>\n",
       "      <td>1.99</td>\n",
       "      <td>41.72</td>\n",
       "      <td>16.75</td>\n",
       "      <td>2021-09-06</td>\n",
       "    </tr>\n",
       "    <tr>\n",
       "      <th>1</th>\n",
       "      <td>2021-09-06 16:30:14.000</td>\n",
       "      <td>1.85</td>\n",
       "      <td>43.65</td>\n",
       "      <td>18.02</td>\n",
       "      <td>2021-09-06</td>\n",
       "    </tr>\n",
       "    <tr>\n",
       "      <th>...</th>\n",
       "      <td>...</td>\n",
       "      <td>...</td>\n",
       "      <td>...</td>\n",
       "      <td>...</td>\n",
       "      <td>...</td>\n",
       "    </tr>\n",
       "    <tr>\n",
       "      <th>22</th>\n",
       "      <td>2021-10-27 18:36:03.300</td>\n",
       "      <td>2.05</td>\n",
       "      <td>42.84</td>\n",
       "      <td>15.38</td>\n",
       "      <td>2021-10-27</td>\n",
       "    </tr>\n",
       "    <tr>\n",
       "      <th>22</th>\n",
       "      <td>2021-10-27 18:36:08.300</td>\n",
       "      <td>1.91</td>\n",
       "      <td>42.64</td>\n",
       "      <td>19.08</td>\n",
       "      <td>2021-10-27</td>\n",
       "    </tr>\n",
       "    <tr>\n",
       "      <th>22</th>\n",
       "      <td>2021-10-27 18:36:13.300</td>\n",
       "      <td>2.11</td>\n",
       "      <td>44.09</td>\n",
       "      <td>18.14</td>\n",
       "      <td>2021-10-27</td>\n",
       "    </tr>\n",
       "    <tr>\n",
       "      <th>22</th>\n",
       "      <td>2021-10-27 18:36:18.300</td>\n",
       "      <td>1.92</td>\n",
       "      <td>43.95</td>\n",
       "      <td>17.96</td>\n",
       "      <td>2021-10-27</td>\n",
       "    </tr>\n",
       "    <tr>\n",
       "      <th>22</th>\n",
       "      <td>2021-10-27 18:36:23.300</td>\n",
       "      <td>1.81</td>\n",
       "      <td>44.11</td>\n",
       "      <td>19.22</td>\n",
       "      <td>2021-10-27</td>\n",
       "    </tr>\n",
       "  </tbody>\n",
       "</table>\n",
       "<p>50094 rows × 5 columns</p>\n",
       "</div>"
      ],
      "text/plain": [
       "                        Time    pH   Temp  Voltage       DTime\n",
       "Lot                                                           \n",
       "1    2021-09-06 16:29:54.000  2.15  43.15    19.74  2021-09-06\n",
       "1    2021-09-06 16:29:59.000  2.08  40.13    18.01  2021-09-06\n",
       "1    2021-09-06 16:30:04.000  2.18  43.46    18.73  2021-09-06\n",
       "1    2021-09-06 16:30:09.000  1.99  41.72    16.75  2021-09-06\n",
       "1    2021-09-06 16:30:14.000  1.85  43.65    18.02  2021-09-06\n",
       "..                       ...   ...    ...      ...         ...\n",
       "22   2021-10-27 18:36:03.300  2.05  42.84    15.38  2021-10-27\n",
       "22   2021-10-27 18:36:08.300  1.91  42.64    19.08  2021-10-27\n",
       "22   2021-10-27 18:36:13.300  2.11  44.09    18.14  2021-10-27\n",
       "22   2021-10-27 18:36:18.300  1.92  43.95    17.96  2021-10-27\n",
       "22   2021-10-27 18:36:23.300  1.81  44.11    19.22  2021-10-27\n",
       "\n",
       "[50094 rows x 5 columns]"
      ]
     },
     "execution_count": 5,
     "metadata": {},
     "output_type": "execute_result"
    }
   ],
   "source": [
    "# 데이터 불러오기\n",
    "df_DT = pd.read_csv(r'C:\\localRepository\\Bigdata_busan\\ML\\res\\prep.csv', index_col = 0)\n",
    "df_DT"
   ]
  },
  {
   "cell_type": "code",
   "execution_count": 4,
   "metadata": {},
   "outputs": [
    {
     "name": "stdout",
     "output_type": "stream",
     "text": [
      "<class 'pandas.core.frame.DataFrame'>\n",
      "Int64Index: 50094 entries, 0 to 50093\n",
      "Data columns (total 7 columns):\n",
      " #   Column   Non-Null Count  Dtype  \n",
      "---  ------   --------------  -----  \n",
      " 0   Date     50094 non-null  object \n",
      " 1   Time     50094 non-null  object \n",
      " 2   Lot      50094 non-null  int64  \n",
      " 3   pH       50094 non-null  float64\n",
      " 4   Temp     50094 non-null  float64\n",
      " 5   Voltage  50094 non-null  float64\n",
      " 6   sep      50094 non-null  int64  \n",
      "dtypes: float64(3), int64(2), object(2)\n",
      "memory usage: 3.1+ MB\n"
     ]
    }
   ],
   "source": [
    "# info 확인\n",
    "df_DT.info()"
   ]
  },
  {
   "cell_type": "markdown",
   "metadata": {},
   "source": [
    "## 데이터"
   ]
  }
 ],
 "metadata": {
  "kernelspec": {
   "display_name": "Python 3.10.5 64-bit",
   "language": "python",
   "name": "python3"
  },
  "language_info": {
   "codemirror_mode": {
    "name": "ipython",
    "version": 3
   },
   "file_extension": ".py",
   "mimetype": "text/x-python",
   "name": "python",
   "nbconvert_exporter": "python",
   "pygments_lexer": "ipython3",
   "version": "3.10.5"
  },
  "orig_nbformat": 4,
  "vscode": {
   "interpreter": {
    "hash": "beedbe2faf2f7048d727558d0bc3221e7eba2a0b921cac4d4771b2feb8f74b30"
   }
  }
 },
 "nbformat": 4,
 "nbformat_minor": 2
}
