{
 "cells": [
  {
   "cell_type": "code",
   "execution_count": 1,
   "metadata": {},
   "outputs": [],
   "source": [
    "import numpy as np # 벡터, 행렬 등 수치 연산을 수행하는 선형대수 라이브러리\n",
    "import pandas as pd # 시리즈, 데이터프레임 포맷 데이터 처리를 위한 라이브러리\n",
    "\n",
    "import warnings; warnings.filterwarnings(action='ignore') # 경고 메시지 무시\n",
    "\n",
    "import matplotlib.pyplot as plt # 데이터 시각화 라이브러리\n",
    "import seaborn as sns\n",
    "\n",
    "import pickle # 객체 입출력을 위한 라이브러리\n",
    "\n",
    "from sklearn.model_selection import train_test_split # 훈련 데이터, 테스트 데이터 분리\n",
    "from sklearn.preprocessing import StandardScaler, MinMaxScaler # 정규화\n",
    "from sklearn.ensemble import RandomForestClassifier as RFC # 랜덤포레스트 분류 알고리즘\n",
    "from sklearn.tree import DecisionTreeClassifier as DTC # 의사결정나무 분류 알고리즘\n",
    "from sklearn.ensemble import GradientBoostingClassifier as GBC # 그래디언트 부스팅 분류 알고리즘\n",
    "from math import sqrt\n",
    "# 모델 평가를 위한 metrics\n",
    "from sklearn.metrics import accuracy_score, precision_score, recall_score, f1_score\n",
    "from sklearn.metrics import roc_curve, mean_squared_error, plot_confusion_matrix, classification_report\n",
    "\n",
    "# from sklearn.preprocessing import RobustScaler # 정규화\n",
    "# from sklearn.metrics import roc_curve\n",
    "# from sklearn.metrics import mean_squared_error\n",
    "# from sklearn.metrics import classification_report"
   ]
  },
  {
   "cell_type": "code",
   "execution_count": 2,
   "metadata": {},
   "outputs": [
    {
     "data": {
      "text/html": [
       "<div>\n",
       "<style scoped>\n",
       "    .dataframe tbody tr th:only-of-type {\n",
       "        vertical-align: middle;\n",
       "    }\n",
       "\n",
       "    .dataframe tbody tr th {\n",
       "        vertical-align: top;\n",
       "    }\n",
       "\n",
       "    .dataframe thead th {\n",
       "        text-align: right;\n",
       "    }\n",
       "</style>\n",
       "<table border=\"1\" class=\"dataframe\">\n",
       "  <thead>\n",
       "    <tr style=\"text-align: right;\">\n",
       "      <th></th>\n",
       "      <th>pH</th>\n",
       "      <th>Temp</th>\n",
       "      <th>Voltage</th>\n",
       "      <th>QC</th>\n",
       "    </tr>\n",
       "  </thead>\n",
       "  <tbody>\n",
       "    <tr>\n",
       "      <th>2021-09-06 16:29:54.000</th>\n",
       "      <td>2.15</td>\n",
       "      <td>43.15</td>\n",
       "      <td>19.74</td>\n",
       "      <td>0</td>\n",
       "    </tr>\n",
       "    <tr>\n",
       "      <th>2021-09-06 16:29:59.000</th>\n",
       "      <td>2.08</td>\n",
       "      <td>40.13</td>\n",
       "      <td>18.01</td>\n",
       "      <td>0</td>\n",
       "    </tr>\n",
       "    <tr>\n",
       "      <th>2021-09-06 16:30:04.000</th>\n",
       "      <td>2.18</td>\n",
       "      <td>43.46</td>\n",
       "      <td>18.73</td>\n",
       "      <td>0</td>\n",
       "    </tr>\n",
       "    <tr>\n",
       "      <th>2021-09-06 16:30:09.000</th>\n",
       "      <td>1.99</td>\n",
       "      <td>41.72</td>\n",
       "      <td>16.75</td>\n",
       "      <td>0</td>\n",
       "    </tr>\n",
       "    <tr>\n",
       "      <th>2021-09-06 16:30:14.000</th>\n",
       "      <td>1.85</td>\n",
       "      <td>43.65</td>\n",
       "      <td>18.02</td>\n",
       "      <td>0</td>\n",
       "    </tr>\n",
       "    <tr>\n",
       "      <th>...</th>\n",
       "      <td>...</td>\n",
       "      <td>...</td>\n",
       "      <td>...</td>\n",
       "      <td>...</td>\n",
       "    </tr>\n",
       "    <tr>\n",
       "      <th>2021-10-27 18:36:03.300</th>\n",
       "      <td>2.05</td>\n",
       "      <td>42.84</td>\n",
       "      <td>15.38</td>\n",
       "      <td>0</td>\n",
       "    </tr>\n",
       "    <tr>\n",
       "      <th>2021-10-27 18:36:08.300</th>\n",
       "      <td>1.91</td>\n",
       "      <td>42.64</td>\n",
       "      <td>19.08</td>\n",
       "      <td>0</td>\n",
       "    </tr>\n",
       "    <tr>\n",
       "      <th>2021-10-27 18:36:13.300</th>\n",
       "      <td>2.11</td>\n",
       "      <td>44.09</td>\n",
       "      <td>18.14</td>\n",
       "      <td>0</td>\n",
       "    </tr>\n",
       "    <tr>\n",
       "      <th>2021-10-27 18:36:18.300</th>\n",
       "      <td>1.92</td>\n",
       "      <td>43.95</td>\n",
       "      <td>17.96</td>\n",
       "      <td>0</td>\n",
       "    </tr>\n",
       "    <tr>\n",
       "      <th>2021-10-27 18:36:23.300</th>\n",
       "      <td>1.81</td>\n",
       "      <td>44.11</td>\n",
       "      <td>19.22</td>\n",
       "      <td>0</td>\n",
       "    </tr>\n",
       "  </tbody>\n",
       "</table>\n",
       "<p>50094 rows × 4 columns</p>\n",
       "</div>"
      ],
      "text/plain": [
       "                           pH   Temp  Voltage  QC\n",
       "2021-09-06 16:29:54.000  2.15  43.15    19.74   0\n",
       "2021-09-06 16:29:59.000  2.08  40.13    18.01   0\n",
       "2021-09-06 16:30:04.000  2.18  43.46    18.73   0\n",
       "2021-09-06 16:30:09.000  1.99  41.72    16.75   0\n",
       "2021-09-06 16:30:14.000  1.85  43.65    18.02   0\n",
       "...                       ...    ...      ...  ..\n",
       "2021-10-27 18:36:03.300  2.05  42.84    15.38   0\n",
       "2021-10-27 18:36:08.300  1.91  42.64    19.08   0\n",
       "2021-10-27 18:36:13.300  2.11  44.09    18.14   0\n",
       "2021-10-27 18:36:18.300  1.92  43.95    17.96   0\n",
       "2021-10-27 18:36:23.300  1.81  44.11    19.22   0\n",
       "\n",
       "[50094 rows x 4 columns]"
      ]
     },
     "execution_count": 2,
     "metadata": {},
     "output_type": "execute_result"
    }
   ],
   "source": [
    "X_data = pd.read_csv('../res/final_df_1.csv', index_col=0)\n",
    "X_data"
   ]
  },
  {
   "cell_type": "code",
   "execution_count": 3,
   "metadata": {},
   "outputs": [
    {
     "data": {
      "text/plain": [
       "(50094, 4)"
      ]
     },
     "execution_count": 3,
     "metadata": {},
     "output_type": "execute_result"
    }
   ],
   "source": [
    "X_data.shape"
   ]
  },
  {
   "cell_type": "markdown",
   "metadata": {},
   "source": [
    "# 독립변수별 종속변수 간의 관계 시각화\n",
    "\n",
    "- 어떤 독립변수가 정상/불량 결정짓는 주요 영향인자인지 그래프로 시각화"
   ]
  },
  {
   "cell_type": "code",
   "execution_count": 4,
   "metadata": {},
   "outputs": [
    {
     "data": {
      "text/html": [
       "<div>\n",
       "<style scoped>\n",
       "    .dataframe tbody tr th:only-of-type {\n",
       "        vertical-align: middle;\n",
       "    }\n",
       "\n",
       "    .dataframe tbody tr th {\n",
       "        vertical-align: top;\n",
       "    }\n",
       "\n",
       "    .dataframe thead th {\n",
       "        text-align: right;\n",
       "    }\n",
       "</style>\n",
       "<table border=\"1\" class=\"dataframe\">\n",
       "  <thead>\n",
       "    <tr style=\"text-align: right;\">\n",
       "      <th></th>\n",
       "      <th>pH</th>\n",
       "      <th>Temp</th>\n",
       "      <th>Voltage</th>\n",
       "      <th>QC</th>\n",
       "    </tr>\n",
       "  </thead>\n",
       "  <tbody>\n",
       "    <tr>\n",
       "      <th>2021-09-06 16:29:54.000</th>\n",
       "      <td>2.15</td>\n",
       "      <td>43.15</td>\n",
       "      <td>19.74</td>\n",
       "      <td>0</td>\n",
       "    </tr>\n",
       "    <tr>\n",
       "      <th>2021-09-06 16:29:59.000</th>\n",
       "      <td>2.08</td>\n",
       "      <td>40.13</td>\n",
       "      <td>18.01</td>\n",
       "      <td>0</td>\n",
       "    </tr>\n",
       "    <tr>\n",
       "      <th>2021-09-06 16:30:04.000</th>\n",
       "      <td>2.18</td>\n",
       "      <td>43.46</td>\n",
       "      <td>18.73</td>\n",
       "      <td>0</td>\n",
       "    </tr>\n",
       "    <tr>\n",
       "      <th>2021-09-06 16:30:09.000</th>\n",
       "      <td>1.99</td>\n",
       "      <td>41.72</td>\n",
       "      <td>16.75</td>\n",
       "      <td>0</td>\n",
       "    </tr>\n",
       "    <tr>\n",
       "      <th>2021-09-06 16:30:14.000</th>\n",
       "      <td>1.85</td>\n",
       "      <td>43.65</td>\n",
       "      <td>18.02</td>\n",
       "      <td>0</td>\n",
       "    </tr>\n",
       "    <tr>\n",
       "      <th>...</th>\n",
       "      <td>...</td>\n",
       "      <td>...</td>\n",
       "      <td>...</td>\n",
       "      <td>...</td>\n",
       "    </tr>\n",
       "    <tr>\n",
       "      <th>2021-10-27 18:36:03.300</th>\n",
       "      <td>2.05</td>\n",
       "      <td>42.84</td>\n",
       "      <td>15.38</td>\n",
       "      <td>0</td>\n",
       "    </tr>\n",
       "    <tr>\n",
       "      <th>2021-10-27 18:36:08.300</th>\n",
       "      <td>1.91</td>\n",
       "      <td>42.64</td>\n",
       "      <td>19.08</td>\n",
       "      <td>0</td>\n",
       "    </tr>\n",
       "    <tr>\n",
       "      <th>2021-10-27 18:36:13.300</th>\n",
       "      <td>2.11</td>\n",
       "      <td>44.09</td>\n",
       "      <td>18.14</td>\n",
       "      <td>0</td>\n",
       "    </tr>\n",
       "    <tr>\n",
       "      <th>2021-10-27 18:36:18.300</th>\n",
       "      <td>1.92</td>\n",
       "      <td>43.95</td>\n",
       "      <td>17.96</td>\n",
       "      <td>0</td>\n",
       "    </tr>\n",
       "    <tr>\n",
       "      <th>2021-10-27 18:36:23.300</th>\n",
       "      <td>1.81</td>\n",
       "      <td>44.11</td>\n",
       "      <td>19.22</td>\n",
       "      <td>0</td>\n",
       "    </tr>\n",
       "  </tbody>\n",
       "</table>\n",
       "<p>49473 rows × 4 columns</p>\n",
       "</div>"
      ],
      "text/plain": [
       "                           pH   Temp  Voltage  QC\n",
       "2021-09-06 16:29:54.000  2.15  43.15    19.74   0\n",
       "2021-09-06 16:29:59.000  2.08  40.13    18.01   0\n",
       "2021-09-06 16:30:04.000  2.18  43.46    18.73   0\n",
       "2021-09-06 16:30:09.000  1.99  41.72    16.75   0\n",
       "2021-09-06 16:30:14.000  1.85  43.65    18.02   0\n",
       "...                       ...    ...      ...  ..\n",
       "2021-10-27 18:36:03.300  2.05  42.84    15.38   0\n",
       "2021-10-27 18:36:08.300  1.91  42.64    19.08   0\n",
       "2021-10-27 18:36:13.300  2.11  44.09    18.14   0\n",
       "2021-10-27 18:36:18.300  1.92  43.95    17.96   0\n",
       "2021-10-27 18:36:23.300  1.81  44.11    19.22   0\n",
       "\n",
       "[49473 rows x 4 columns]"
      ]
     },
     "execution_count": 4,
     "metadata": {},
     "output_type": "execute_result"
    }
   ],
   "source": [
    "# 정상 데이터 모음\n",
    "data_1 = X_data[(X_data['QC']==0)]\n",
    "data_1"
   ]
  },
  {
   "cell_type": "code",
   "execution_count": 5,
   "metadata": {},
   "outputs": [
    {
     "data": {
      "text/html": [
       "<div>\n",
       "<style scoped>\n",
       "    .dataframe tbody tr th:only-of-type {\n",
       "        vertical-align: middle;\n",
       "    }\n",
       "\n",
       "    .dataframe tbody tr th {\n",
       "        vertical-align: top;\n",
       "    }\n",
       "\n",
       "    .dataframe thead th {\n",
       "        text-align: right;\n",
       "    }\n",
       "</style>\n",
       "<table border=\"1\" class=\"dataframe\">\n",
       "  <thead>\n",
       "    <tr style=\"text-align: right;\">\n",
       "      <th></th>\n",
       "      <th>pH</th>\n",
       "      <th>Temp</th>\n",
       "      <th>Voltage</th>\n",
       "      <th>QC</th>\n",
       "    </tr>\n",
       "  </thead>\n",
       "  <tbody>\n",
       "    <tr>\n",
       "      <th>2021-09-08 18:23:01.700</th>\n",
       "      <td>1.97</td>\n",
       "      <td>41.20</td>\n",
       "      <td>15.53</td>\n",
       "      <td>1</td>\n",
       "    </tr>\n",
       "    <tr>\n",
       "      <th>2021-09-08 18:23:06.700</th>\n",
       "      <td>2.08</td>\n",
       "      <td>42.13</td>\n",
       "      <td>16.86</td>\n",
       "      <td>1</td>\n",
       "    </tr>\n",
       "    <tr>\n",
       "      <th>2021-09-08 18:23:11.700</th>\n",
       "      <td>1.89</td>\n",
       "      <td>44.62</td>\n",
       "      <td>18.19</td>\n",
       "      <td>1</td>\n",
       "    </tr>\n",
       "    <tr>\n",
       "      <th>2021-09-08 18:23:16.700</th>\n",
       "      <td>1.95</td>\n",
       "      <td>42.55</td>\n",
       "      <td>15.59</td>\n",
       "      <td>1</td>\n",
       "    </tr>\n",
       "    <tr>\n",
       "      <th>2021-09-08 18:23:21.700</th>\n",
       "      <td>2.43</td>\n",
       "      <td>44.54</td>\n",
       "      <td>15.44</td>\n",
       "      <td>1</td>\n",
       "    </tr>\n",
       "    <tr>\n",
       "      <th>...</th>\n",
       "      <td>...</td>\n",
       "      <td>...</td>\n",
       "      <td>...</td>\n",
       "      <td>...</td>\n",
       "    </tr>\n",
       "    <tr>\n",
       "      <th>2021-10-25 18:00:47.800</th>\n",
       "      <td>1.88</td>\n",
       "      <td>41.14</td>\n",
       "      <td>17.21</td>\n",
       "      <td>1</td>\n",
       "    </tr>\n",
       "    <tr>\n",
       "      <th>2021-10-25 18:00:52.800</th>\n",
       "      <td>2.04</td>\n",
       "      <td>44.78</td>\n",
       "      <td>18.32</td>\n",
       "      <td>1</td>\n",
       "    </tr>\n",
       "    <tr>\n",
       "      <th>2021-10-25 18:00:57.800</th>\n",
       "      <td>2.48</td>\n",
       "      <td>41.44</td>\n",
       "      <td>16.19</td>\n",
       "      <td>1</td>\n",
       "    </tr>\n",
       "    <tr>\n",
       "      <th>2021-10-25 18:01:02.800</th>\n",
       "      <td>1.81</td>\n",
       "      <td>41.09</td>\n",
       "      <td>19.30</td>\n",
       "      <td>1</td>\n",
       "    </tr>\n",
       "    <tr>\n",
       "      <th>2021-10-25 18:01:07.800</th>\n",
       "      <td>2.17</td>\n",
       "      <td>41.80</td>\n",
       "      <td>16.20</td>\n",
       "      <td>1</td>\n",
       "    </tr>\n",
       "  </tbody>\n",
       "</table>\n",
       "<p>621 rows × 4 columns</p>\n",
       "</div>"
      ],
      "text/plain": [
       "                           pH   Temp  Voltage  QC\n",
       "2021-09-08 18:23:01.700  1.97  41.20    15.53   1\n",
       "2021-09-08 18:23:06.700  2.08  42.13    16.86   1\n",
       "2021-09-08 18:23:11.700  1.89  44.62    18.19   1\n",
       "2021-09-08 18:23:16.700  1.95  42.55    15.59   1\n",
       "2021-09-08 18:23:21.700  2.43  44.54    15.44   1\n",
       "...                       ...    ...      ...  ..\n",
       "2021-10-25 18:00:47.800  1.88  41.14    17.21   1\n",
       "2021-10-25 18:00:52.800  2.04  44.78    18.32   1\n",
       "2021-10-25 18:00:57.800  2.48  41.44    16.19   1\n",
       "2021-10-25 18:01:02.800  1.81  41.09    19.30   1\n",
       "2021-10-25 18:01:07.800  2.17  41.80    16.20   1\n",
       "\n",
       "[621 rows x 4 columns]"
      ]
     },
     "execution_count": 5,
     "metadata": {},
     "output_type": "execute_result"
    }
   ],
   "source": [
    "# 불량 데이터 모음\n",
    "data_0 = X_data[(X_data['QC']==1)]\n",
    "data_0"
   ]
  },
  {
   "cell_type": "code",
   "execution_count": 6,
   "metadata": {},
   "outputs": [
    {
     "data": {
      "image/png": "[encoded data removed]",
      "text/plain": [
       "<Figure size 2160x2160 with 3 Axes>"
      ]
     },
     "metadata": {
      "needs_background": "light"
     },
     "output_type": "display_data"
    }
   ],
   "source": [
    "# 독립변수 설정\n",
    "x = X_data[X_data.columns.difference(['QC'])]\n",
    "# 독립변수명 리스트\n",
    "feature_name = x.columns\n",
    "plt.figure(figsize=(30,30))\n",
    "for col_idx in range(len(feature_name)):\n",
    "    # 6행 2열 서브플롯에 각 feature 박스플롯 시각화\n",
    "    # subplot(행, 열, 어디에 그릴지)\n",
    "    plt.subplot(2, 2, col_idx+1)\n",
    "    # 불량에 해당하는 데이터 histogram 시각화\n",
    "    # alpha : 투명도\n",
    "    plt.hist(X_data[X_data['QC'] == 1][feature_name[col_idx]], label = \"Bad\", alpha =0.5)\n",
    "    # 정상에 해당하는 데이터 histogram 시각화\n",
    "    plt.hist(X_data[X_data['QC'] == 0][feature_name[col_idx]], label = \"Good\", alpha =0.5)\n",
    "    plt.legend()\n",
    "    plt.title(\"Feature: \"+ feature_name[col_idx], fontsize = 20)\n",
    "plt.show()\n",
    "# 시각적으로 미세한 차이가 보인다 -> 특성중요도 확인 필요"
   ]
  },
  {
   "cell_type": "markdown",
   "metadata": {},
   "source": [
    "# Train/ Test Data Set Make"
   ]
  },
  {
   "cell_type": "code",
   "execution_count": 7,
   "metadata": {},
   "outputs": [
    {
     "data": {
      "text/plain": [
       "array([[43.15, 19.74,  2.15],\n",
       "       [40.13, 18.01,  2.08],\n",
       "       [43.46, 18.73,  2.18],\n",
       "       ...,\n",
       "       [44.09, 18.14,  2.11],\n",
       "       [43.95, 17.96,  1.92],\n",
       "       [44.11, 19.22,  1.81]])"
      ]
     },
     "execution_count": 7,
     "metadata": {},
     "output_type": "execute_result"
    }
   ],
   "source": [
    "# train\n",
    "train_np = X_data[['Temp', 'Voltage', 'pH']].to_numpy()\n",
    "train_np"
   ]
  },
  {
   "cell_type": "code",
   "execution_count": 8,
   "metadata": {},
   "outputs": [
    {
     "data": {
      "text/plain": [
       "array([0, 0, 0, ..., 0, 0, 0], dtype=int64)"
      ]
     },
     "execution_count": 8,
     "metadata": {},
     "output_type": "execute_result"
    }
   ],
   "source": [
    "# target\n",
    "target_np = X_data['QC'].to_numpy()\n",
    "target_np"
   ]
  },
  {
   "cell_type": "code",
   "execution_count": 9,
   "metadata": {},
   "outputs": [],
   "source": [
    "# 학습용/테스트용 데이터 생성(70:30)\n",
    "train_input, test_input, train_target, test_target = train_test_split(train_np, target_np, random_state=42, test_size=0.3)"
   ]
  },
  {
   "cell_type": "code",
   "execution_count": 10,
   "metadata": {},
   "outputs": [
    {
     "data": {
      "text/plain": [
       "(35065, 3)"
      ]
     },
     "execution_count": 10,
     "metadata": {},
     "output_type": "execute_result"
    }
   ],
   "source": [
    "train_input.shape"
   ]
  },
  {
   "cell_type": "code",
   "execution_count": 11,
   "metadata": {},
   "outputs": [
    {
     "data": {
      "text/plain": [
       "(15029, 3)"
      ]
     },
     "execution_count": 11,
     "metadata": {},
     "output_type": "execute_result"
    }
   ],
   "source": [
    "test_input.shape"
   ]
  },
  {
   "cell_type": "markdown",
   "metadata": {},
   "source": [
    "# 모델링"
   ]
  },
  {
   "cell_type": "code",
   "execution_count": 22,
   "metadata": {},
   "outputs": [],
   "source": [
    "# 정규화\n",
    "scaler = StandardScaler()\n",
    "train_input = scaler.fit_transform(train_input)\n",
    "test_input = scaler.transform(test_input)"
   ]
  },
  {
   "cell_type": "code",
   "execution_count": 12,
   "metadata": {},
   "outputs": [],
   "source": [
    "# Random Forest 모델 학습\n",
    "model_1 = RFC(random_state=42, )\n",
    "clf = model_1.fit(train_input, train_target)"
   ]
  },
  {
   "cell_type": "code",
   "execution_count": 13,
   "metadata": {},
   "outputs": [
    {
     "data": {
      "text/html": [
       "<style>#sk-container-id-1 {color: black;background-color: white;}#sk-container-id-1 pre{padding: 0;}#sk-container-id-1 div.sk-toggleable {background-color: white;}#sk-container-id-1 label.sk-toggleable__label {cursor: pointer;display: block;width: 100%;margin-bottom: 0;padding: 0.3em;box-sizing: border-box;text-align: center;}#sk-container-id-1 label.sk-toggleable__label-arrow:before {content: \"▸\";float: left;margin-right: 0.25em;color: #696969;}#sk-container-id-1 label.sk-toggleable__label-arrow:hover:before {color: black;}#sk-container-id-1 div.sk-estimator:hover label.sk-toggleable__label-arrow:before {color: black;}#sk-container-id-1 div.sk-toggleable__content {max-height: 0;max-width: 0;overflow: hidden;text-align: left;background-color: #f0f8ff;}#sk-container-id-1 div.sk-toggleable__content pre {margin: 0.2em;color: black;border-radius: 0.25em;background-color: #f0f8ff;}#sk-container-id-1 input.sk-toggleable__control:checked~div.sk-toggleable__content {max-height: 200px;max-width: 100%;overflow: auto;}#sk-container-id-1 input.sk-toggleable__control:checked~label.sk-toggleable__label-arrow:before {content: \"▾\";}#sk-container-id-1 div.sk-estimator input.sk-toggleable__control:checked~label.sk-toggleable__label {background-color: #d4ebff;}#sk-container-id-1 div.sk-label input.sk-toggleable__control:checked~label.sk-toggleable__label {background-color: #d4ebff;}#sk-container-id-1 input.sk-hidden--visually {border: 0;clip: rect(1px 1px 1px 1px);clip: rect(1px, 1px, 1px, 1px);height: 1px;margin: -1px;overflow: hidden;padding: 0;position: absolute;width: 1px;}#sk-container-id-1 div.sk-estimator {font-family: monospace;background-color: #f0f8ff;border: 1px dotted black;border-radius: 0.25em;box-sizing: border-box;margin-bottom: 0.5em;}#sk-container-id-1 div.sk-estimator:hover {background-color: #d4ebff;}#sk-container-id-1 div.sk-parallel-item::after {content: \"\";width: 100%;border-bottom: 1px solid gray;flex-grow: 1;}#sk-container-id-1 div.sk-label:hover label.sk-toggleable__label {background-color: #d4ebff;}#sk-container-id-1 div.sk-serial::before {content: \"\";position: absolute;border-left: 1px solid gray;box-sizing: border-box;top: 0;bottom: 0;left: 50%;z-index: 0;}#sk-container-id-1 div.sk-serial {display: flex;flex-direction: column;align-items: center;background-color: white;padding-right: 0.2em;padding-left: 0.2em;position: relative;}#sk-container-id-1 div.sk-item {position: relative;z-index: 1;}#sk-container-id-1 div.sk-parallel {display: flex;align-items: stretch;justify-content: center;background-color: white;position: relative;}#sk-container-id-1 div.sk-item::before, #sk-container-id-1 div.sk-parallel-item::before {content: \"\";position: absolute;border-left: 1px solid gray;box-sizing: border-box;top: 0;bottom: 0;left: 50%;z-index: -1;}#sk-container-id-1 div.sk-parallel-item {display: flex;flex-direction: column;z-index: 1;position: relative;background-color: white;}#sk-container-id-1 div.sk-parallel-item:first-child::after {align-self: flex-end;width: 50%;}#sk-container-id-1 div.sk-parallel-item:last-child::after {align-self: flex-start;width: 50%;}#sk-container-id-1 div.sk-parallel-item:only-child::after {width: 0;}#sk-container-id-1 div.sk-dashed-wrapped {border: 1px dashed gray;margin: 0 0.4em 0.5em 0.4em;box-sizing: border-box;padding-bottom: 0.4em;background-color: white;}#sk-container-id-1 div.sk-label label {font-family: monospace;font-weight: bold;display: inline-block;line-height: 1.2em;}#sk-container-id-1 div.sk-label-container {text-align: center;}#sk-container-id-1 div.sk-container {/* jupyter's `normalize.less` sets `[hidden] { display: none; }` but bootstrap.min.css set `[hidden] { display: none !important; }` so we also need the `!important` here to be able to override the default hidden behavior on the sphinx rendered scikit-learn.org. See: https://github.com/scikit-learn/scikit-learn/issues/21755 */display: inline-block !important;position: relative;}#sk-container-id-1 div.sk-text-repr-fallback {display: none;}</style><div id=\"sk-container-id-1\" class=\"sk-top-container\"><div class=\"sk-text-repr-fallback\"><pre>RandomForestClassifier(random_state=42)</pre><b>In a Jupyter environment, please rerun this cell to show the HTML representation or trust the notebook. <br />On GitHub, the HTML representation is unable to render, please try loading this page with nbviewer.org.</b></div><div class=\"sk-container\" hidden><div class=\"sk-item\"><div class=\"sk-estimator sk-toggleable\"><input class=\"sk-toggleable__control sk-hidden--visually\" id=\"sk-estimator-id-1\" type=\"checkbox\" checked><label for=\"sk-estimator-id-1\" class=\"sk-toggleable__label sk-toggleable__label-arrow\">RandomForestClassifier</label><div class=\"sk-toggleable__content\"><pre>RandomForestClassifier(random_state=42)</pre></div></div></div></div></div>"
      ],
      "text/plain": [
       "RandomForestClassifier(random_state=42)"
      ]
     },
     "execution_count": 13,
     "metadata": {},
     "output_type": "execute_result"
    }
   ],
   "source": [
    "clf"
   ]
  },
  {
   "cell_type": "code",
   "execution_count": 14,
   "metadata": {},
   "outputs": [
    {
     "data": {
      "text/plain": [
       "0.9999144446028804"
      ]
     },
     "execution_count": 14,
     "metadata": {},
     "output_type": "execute_result"
    }
   ],
   "source": [
    "# 훈련 정확도\n",
    "clf.score(train_input, train_target)"
   ]
  },
  {
   "cell_type": "code",
   "execution_count": 15,
   "metadata": {},
   "outputs": [
    {
     "data": {
      "text/plain": [
       "0.9874243129948765"
      ]
     },
     "execution_count": 15,
     "metadata": {},
     "output_type": "execute_result"
    }
   ],
   "source": [
    "# 테스트 정확도\n",
    "clf.score(test_input, test_target)"
   ]
  },
  {
   "cell_type": "markdown",
   "metadata": {},
   "source": [
    "# 모델 평가"
   ]
  },
  {
   "cell_type": "code",
   "execution_count": 16,
   "metadata": {},
   "outputs": [
    {
     "name": "stdout",
     "output_type": "stream",
     "text": [
      "Random Forest Model Predict :  [0 0 0 ... 0 0 0]\n",
      "Random Forest Model RMSE :  0.11214137062263609\n"
     ]
    }
   ],
   "source": [
    "clf_pred = clf.predict(test_input)\n",
    "print('Random Forest Model Predict : ', clf_pred)\n",
    "rmse = sqrt(mean_squared_error(test_target, clf_pred))\n",
    "print('Random Forest Model RMSE : ', rmse)"
   ]
  },
  {
   "cell_type": "code",
   "execution_count": 17,
   "metadata": {},
   "outputs": [
    {
     "data": {
      "text/plain": [
       "0.9874243129948765"
      ]
     },
     "execution_count": 17,
     "metadata": {},
     "output_type": "execute_result"
    }
   ],
   "source": [
    "# 예측정확도 - test set로 평가\n",
    "accuracy_score(test_target, clf_pred)"
   ]
  },
  {
   "cell_type": "code",
   "execution_count": 18,
   "metadata": {},
   "outputs": [
    {
     "name": "stdout",
     "output_type": "stream",
     "text": [
      "              precision    recall  f1-score   support\n",
      "\n",
      "     class 0       0.99      1.00      0.99     14840\n",
      "     class 1       0.00      0.00      0.00       189\n",
      "\n",
      "    accuracy                           0.99     15029\n",
      "   macro avg       0.49      0.50      0.50     15029\n",
      "weighted avg       0.98      0.99      0.98     15029\n",
      "\n"
     ]
    }
   ],
   "source": [
    "print(classification_report(test_target, clf_pred, target_names=['class 0', 'class 1']))"
   ]
  },
  {
   "cell_type": "code",
   "execution_count": 19,
   "metadata": {},
   "outputs": [
    {
     "data": {
      "text/plain": [
       "pH         0.170296\n",
       "Voltage    0.398918\n",
       "Temp       0.430786\n",
       "dtype: float64"
      ]
     },
     "execution_count": 19,
     "metadata": {},
     "output_type": "execute_result"
    }
   ],
   "source": [
    "# Feature Importance 확인\n",
    "feature_scores = pd.Series(clf.feature_importances_, index=['Temp','Voltage','pH']).sort_values(ascending=True)\n",
    "feature_scores"
   ]
  },
  {
   "cell_type": "code",
   "execution_count": 20,
   "metadata": {},
   "outputs": [
    {
     "data": {
      "text/plain": [
       "<AxesSubplot:>"
      ]
     },
     "execution_count": 20,
     "metadata": {},
     "output_type": "execute_result"
    },
    {
     "data": {
      "image/png": "[encoded data removed]",
      "text/plain": [
       "<Figure size 432x288 with 1 Axes>"
      ]
     },
     "metadata": {
      "needs_background": "light"
     },
     "output_type": "display_data"
    }
   ],
   "source": [
    "# feature_scores.reverse()\n",
    "# plt.barh(feature_scores)\n",
    "feature_scores.plot.barh()"
   ]
  },
  {
   "cell_type": "markdown",
   "metadata": {},
   "source": [
    "# Classifier 모델링 함수"
   ]
  },
  {
   "cell_type": "markdown",
   "metadata": {},
   "source": [
    "### 기본 모델링 함수\n",
    "\n",
    "- 하이퍼파라미터 튜닝 없이 모델을 학습하고 성능을 평가하는 함수\n",
    "- 함수는 파라미터로 알고리즘 종류, 독립변수와 종속변수의 훈련 데이터, 검증 데이터를 각각 전달받는다"
   ]
  },
  {
   "cell_type": "code",
   "execution_count": 21,
   "metadata": {},
   "outputs": [],
   "source": [
    "def modeling_uncustomized(algorithm, train_input, train_target, test_input, test_target):\n",
    "    # 하이퍼파라미터 조정 없이 모델 학습\n",
    "    uncustomized = algorithm(random_state=42)\n",
    "    uncustomized.fit(train_input, train_target)\n",
    "    # Train Data 설명력\n",
    "    train_score_before = uncustomized.score(train_input, train_target).round(5)\n",
    "    print(f\"훈련 데이터셋 정확도: {train_score_before}\")\n",
    "    # test Data 설명력\n",
    "    test_score_before = uncustomized.score(test_input, test_target).round(5)\n",
    "    print(f\"테스트 데이터셋 정확도: {test_score_before}\")\n",
    "    return train_score_before, test_score_before"
   ]
  },
  {
   "cell_type": "markdown",
   "metadata": {},
   "source": [
    "## Random Forest Classifier 기반 분류 모델 성능 평가"
   ]
  },
  {
   "cell_type": "code",
   "execution_count": 22,
   "metadata": {},
   "outputs": [],
   "source": [
    "# 랜덤포레스트 분류 알고리즘 : 위에 별칭\n",
    "# Random Forest Classifier를 RFC로 치환\n",
    "algorithm = RFC\n",
    "algorithm_name = 'rfc'"
   ]
  },
  {
   "cell_type": "markdown",
   "metadata": {},
   "source": [
    "### 기본 모델 학습"
   ]
  },
  {
   "cell_type": "code",
   "execution_count": 23,
   "metadata": {},
   "outputs": [
    {
     "name": "stdout",
     "output_type": "stream",
     "text": [
      "훈련 데이터셋 정확도: 0.99991\n",
      "테스트 데이터셋 정확도: 0.98742\n"
     ]
    }
   ],
   "source": [
    "train_acc_before, val_acc_before = modeling_uncustomized(algorithm, \n",
    "                                                         train_input,\n",
    "                                                         train_target,\n",
    "                                                         test_input,\n",
    "                                                         test_target)\n",
    "\n",
    "# 학습 데이터셋 정확도가 1.0인 것으로 미루어 보아 과대적합 발생 예상\n",
    "# 하이퍼파라미터 튜닝 필요               \n",
    "# 기본 모델에서 정확도 좋게 나왔다 소수점 4자리로 했을 때 0.9999, 소수점 3자리가 정석    "
   ]
  },
  {
   "cell_type": "markdown",
   "metadata": {},
   "source": [
    "### 하이퍼파라미터별 모델 성능 시각화 함수\n",
    "\n",
    "- 하이퍼파라미터 튜닝에 따라 달라지는 모델 성능의 추이를 시각화하는 함수\n",
    "- x축 : 하이퍼파라미터 값\n",
    "- y축 : 학습 및 검증 데이터 기반의 모델 정확도"
   ]
  },
  {
   "cell_type": "code",
   "execution_count": 24,
   "metadata": {},
   "outputs": [],
   "source": [
    "def optimi_visualization(algorithm_name, x_values, train_score, test_score, xlabel, filename):\n",
    "    # 하이퍼파라미터 조정에 따른 훈련 데이터셋 기반 모델 성능 추이 시각화\n",
    "    plt.plot(x_values, train_score, linestyle = '-', label = 'train score')\n",
    "    # 하이퍼파라미터 조정에 따른 테스트 데이터셋 기반 모델 성능 추이 시각화\n",
    "    plt.plot(x_values, test_score, linestyle = '--', label = 'test score')\n",
    "    plt.ylabel('Accuracy(%)') # y축 라벨\n",
    "    plt.xlabel(xlabel) # x축 라벨\n",
    "    plt.legend() # 범례표시\n",
    "    plt.savefig('./figure/' + algorithm_name + '_' + filename + '.png') # 시각화한 그래프는 로컬에 저장"
   ]
  },
  {
   "cell_type": "markdown",
   "metadata": {},
   "source": [
    "### 모델 최적화 함수 : 학습할 트리 모델 개수 선정\n",
    "\n",
    "- 최적의 트리 개수 결정하는 함수\n",
    "- 파라미터로 입력받은 트리 개수의 최솟값부터 5개씩 최대 트리 개수까지 늘려가며 모델 성능 평가\n",
    "- 앞서 작성한 시각화 함수를 호출하여 하이퍼파라미터에 따른 모델 성능 변화 추이를 시각화"
   ]
  },
  {
   "cell_type": "code",
   "execution_count": 25,
   "metadata": {},
   "outputs": [],
   "source": [
    "def optimi_estimator(algorithm, algorithm_name, train_input, train_target, test_input, test_target, n_estimator_min, n_estimator_max):\n",
    "    train_score = []; test_score =[]\n",
    "    para_n_tree = [n_tree*5 for n_tree in range(n_estimator_min, n_estimator_max)]\n",
    "\n",
    "    for v_n_estimators in para_n_tree:\n",
    "        model = algorithm(n_estimators = v_n_estimators, random_state=42)\n",
    "        model.fit(train_input, train_target)\n",
    "        train_score.append(model.score(train_input, train_target))\n",
    "        test_score.append(model.score(test_input, test_target))\n",
    "\n",
    "    # 트리 개수에 따른 모델 성능 저장\n",
    "    df_score_n = pd.DataFrame({'n_estimators': para_n_tree, 'TrainScore': train_score, 'testScore': test_score})\n",
    "    # 트리 개수에 따른 모델 성능 추이 시각화 함수 호출\n",
    "    optimi_visualization(algorithm_name, para_n_tree, train_score, test_score, \"The number of estimator\", \"n_estimator\")\n",
    "    print(round(df_score_n, 4))"
   ]
  },
  {
   "cell_type": "code",
   "execution_count": 26,
   "metadata": {},
   "outputs": [
    {
     "name": "stdout",
     "output_type": "stream",
     "text": [
      "    n_estimators  TrainScore  testScore\n",
      "0              5      0.9968     0.9860\n",
      "1             10      0.9967     0.9870\n",
      "2             15      0.9982     0.9870\n",
      "3             20      0.9982     0.9872\n",
      "4             25      0.9989     0.9872\n",
      "5             30      0.9988     0.9873\n",
      "6             35      0.9993     0.9873\n",
      "7             40      0.9992     0.9874\n",
      "8             45      0.9995     0.9872\n",
      "9             50      0.9995     0.9874\n",
      "10            55      0.9997     0.9874\n",
      "11            60      0.9997     0.9875\n",
      "12            65      0.9999     0.9874\n",
      "13            70      0.9999     0.9874\n",
      "14            75      0.9999     0.9874\n",
      "15            80      0.9999     0.9874\n",
      "16            85      0.9999     0.9874\n",
      "17            90      0.9999     0.9874\n",
      "18            95      0.9999     0.9874\n",
      "19           100      0.9999     0.9874\n",
      "20           105      0.9999     0.9874\n",
      "21           110      0.9999     0.9874\n",
      "22           115      0.9999     0.9874\n",
      "23           120      0.9999     0.9874\n",
      "24           125      0.9999     0.9873\n",
      "25           130      0.9999     0.9874\n",
      "26           135      0.9999     0.9874\n",
      "27           140      0.9999     0.9874\n",
      "28           145      0.9999     0.9874\n",
      "29           150      0.9999     0.9874\n"
     ]
    },
    {
     "data": {
      "image/png": "[encoded data removed]",
      "text/plain": [
       "<Figure size 432x288 with 1 Axes>"
      ]
     },
     "metadata": {
      "needs_background": "light"
     },
     "output_type": "display_data"
    }
   ],
   "source": [
    "n_estimator_min = 1\n",
    "n_estimator_max = 31\n",
    "optimi_estimator(algorithm, algorithm_name, \n",
    "                 train_input, train_target, test_input, test_target, \n",
    "                 n_estimator_min, n_estimator_max)\n",
    "# 트리 개수가 많고, 훈련 정확도와 테스트 정확도의 차이가 적은 값으로 선정하는 것이 좋다\n",
    "# 데이터프레임과 그래프를 본 결과\n",
    "# 검증 정확도가 2번째로 높고, 훈련·테스트 차이가 가장 적은 35개\n",
    "# 검증 정확도가 가장 높고, 훈련·테스트 차이가 2번째로 적은 55개\n",
    "# 80, 140\n",
    "# 위 2가지 경우의 수로 진행\n",
    "# 65로 진행\n",
    "# 20!!!"
   ]
  },
  {
   "cell_type": "code",
   "execution_count": 27,
   "metadata": {},
   "outputs": [],
   "source": [
    "# 1. 트리 개수 20개\n",
    "n_estimator = 20"
   ]
  },
  {
   "cell_type": "markdown",
   "metadata": {},
   "source": [
    "### 모델 최적화 함수 : 최대 깊이 선정\n",
    "\n",
    "- 트리별 최대 깊이 결정하는 함수\n",
    "- 파라미터로 입력받은 최대 깊이의 최솟값부터 1씩 최대 깊이의 최댓값까지 늘려가며 모델 성능 평가\n",
    "- 앞서 작성한 시각화 함수를 호출하여 하이퍼파라미터에 따른 모델 성능 변화 추이를 시각화"
   ]
  },
  {
   "cell_type": "code",
   "execution_count": 28,
   "metadata": {},
   "outputs": [],
   "source": [
    "def optimi_maxdepth (algorithm, algorithm_name, train_input, train_target, test_input, test_target, depth_min, depth_max, n_estimator):\n",
    "    train_score = []; test_score = []\n",
    "    para_depth = [depth for depth in range(depth_min, depth_max)]\n",
    "\n",
    "    for v_max_depth in para_depth:\n",
    "        # 의사결정나무 모델의 경우 트리 개수를 따로 설정하지 않기 때문에 RFC, GBC와 분리하여 모델링\n",
    "        if algorithm == DTC:\n",
    "            model = algorithm(max_depth = v_max_depth,\n",
    "                              random_state=42)\n",
    "        else:\n",
    "            model = algorithm(max_depth = v_max_depth,\n",
    "                              n_estimators = n_estimator,\n",
    "                              random_state=42)\n",
    "        \n",
    "        model.fit(train_input, train_target)\n",
    "        train_score.append(model.score(train_input, train_target))\n",
    "        test_score.append(model.score(test_input, test_target))\n",
    "\n",
    "    # 최대 깊이에 따른 모델 성능 저장\n",
    "    df_score_n = pd.DataFrame({'depth': para_depth, 'TrainScore': train_score, 'TestScore': test_score})\n",
    "    # 최대 깊이에 따른 모델 성능 추이 시각화 함수 호출\n",
    "    optimi_visualization(algorithm_name, para_depth, train_score, test_score, \"The number of depth\", \"n_depth\")\n",
    "    print(round(df_score_n, 4))"
   ]
  },
  {
   "cell_type": "code",
   "execution_count": 29,
   "metadata": {},
   "outputs": [
    {
     "name": "stdout",
     "output_type": "stream",
     "text": [
      "    depth  TrainScore  TestScore\n",
      "0       1      0.9877     0.9874\n",
      "1       2      0.9877     0.9874\n",
      "2       3      0.9877     0.9874\n",
      "3       4      0.9877     0.9874\n",
      "4       5      0.9878     0.9874\n",
      "5       6      0.9878     0.9874\n",
      "6       7      0.9879     0.9874\n",
      "7       8      0.9880     0.9875\n",
      "8       9      0.9880     0.9875\n",
      "9      10      0.9882     0.9874\n",
      "10     11      0.9886     0.9874\n",
      "11     12      0.9886     0.9875\n",
      "12     13      0.9890     0.9875\n",
      "13     14      0.9893     0.9874\n",
      "14     15      0.9898     0.9873\n",
      "15     16      0.9903     0.9874\n",
      "16     17      0.9904     0.9875\n",
      "17     18      0.9923     0.9873\n",
      "18     19      0.9930     0.9874\n",
      "19     20      0.9949     0.9874\n"
     ]
    },
    {
     "data": {
      "image/png": "[encoded data removed]",
      "text/plain": [
       "<Figure size 432x288 with 1 Axes>"
      ]
     },
     "metadata": {
      "needs_background": "light"
     },
     "output_type": "display_data"
    }
   ],
   "source": [
    "depth_min = 1\n",
    "depth_max = 21\n",
    "optimi_maxdepth(algorithm, algorithm_name, \n",
    "                train_input, train_target, test_input, test_target, \n",
    "                depth_min, depth_max, n_estimator)\n",
    "# 최대 깊이는 적고 훈련 정확도와 검증 정확도의 차이가 적은 값으로 선정하는 것이 좋다\n",
    "# 깊이가 깊어질수록 과대적합이 일어나기 때문에 과소적합과 과대적합이 일어나지 않는 시점인 6으로 결정\n",
    "# 9!!!"
   ]
  },
  {
   "cell_type": "code",
   "execution_count": 30,
   "metadata": {},
   "outputs": [
    {
     "name": "stdout",
     "output_type": "stream",
     "text": [
      "    depth  TrainScore  TestScore\n",
      "0       1      0.9877     0.9874\n",
      "1       2      0.9877     0.9874\n",
      "2       3      0.9877     0.9874\n",
      "3       4      0.9877     0.9874\n",
      "4       5      0.9878     0.9874\n",
      "5       6      0.9878     0.9874\n",
      "6       7      0.9879     0.9874\n",
      "7       8      0.9880     0.9875\n",
      "8       9      0.9880     0.9875\n",
      "9      10      0.9882     0.9874\n",
      "10     11      0.9886     0.9874\n",
      "11     12      0.9886     0.9875\n",
      "12     13      0.9890     0.9875\n",
      "13     14      0.9893     0.9874\n",
      "14     15      0.9898     0.9873\n",
      "15     16      0.9903     0.9874\n",
      "16     17      0.9904     0.9875\n",
      "17     18      0.9923     0.9873\n",
      "18     19      0.9930     0.9874\n",
      "19     20      0.9949     0.9874\n",
      "20     21      0.9959     0.9874\n",
      "21     22      0.9969     0.9873\n",
      "22     23      0.9977     0.9874\n",
      "23     24      0.9979     0.9874\n",
      "24     25      0.9980     0.9873\n",
      "25     26      0.9981     0.9874\n",
      "26     27      0.9982     0.9873\n",
      "27     28      0.9983     0.9871\n",
      "28     29      0.9982     0.9873\n",
      "29     30      0.9982     0.9872\n",
      "30     31      0.9982     0.9873\n",
      "31     32      0.9982     0.9873\n",
      "32     33      0.9982     0.9872\n",
      "33     34      0.9982     0.9873\n",
      "34     35      0.9982     0.9872\n",
      "35     36      0.9982     0.9872\n",
      "36     37      0.9982     0.9872\n",
      "37     38      0.9982     0.9872\n",
      "38     39      0.9982     0.9872\n",
      "39     40      0.9982     0.9872\n"
     ]
    },
    {
     "data": {
      "image/png": "[encoded data removed]",
      "text/plain": [
       "<Figure size 432x288 with 1 Axes>"
      ]
     },
     "metadata": {
      "needs_background": "light"
     },
     "output_type": "display_data"
    }
   ],
   "source": [
    "depth_min = 1\n",
    "depth_max = 41\n",
    "optimi_maxdepth(algorithm, algorithm_name, \n",
    "                train_input, train_target, test_input, test_target, \n",
    "                depth_min, depth_max, n_estimator)"
   ]
  },
  {
   "cell_type": "code",
   "execution_count": 31,
   "metadata": {},
   "outputs": [],
   "source": [
    "# 2. depth = 9\n",
    "n_depth = 9"
   ]
  },
  {
   "cell_type": "markdown",
   "metadata": {},
   "source": [
    "### 모델 최적화 함수 : 분리 노드의 최소 자료 수 선정\n",
    "\n",
    "- 노드 분리하기 위한 최소 자료 수 결정하는 함수\n",
    "- 파라미터로 입력받은 최소 자료 수의 최솟값부터 깊이를 2씩 최소 자료 수의 최댓값까지 늘려가며 모델 성능 평가\n",
    "- 앞서 작성한 시각화 함수를 호출하여 하이퍼파라미터에 따른 모델 성능 변화 추이를 시각화"
   ]
  },
  {
   "cell_type": "code",
   "execution_count": 32,
   "metadata": {},
   "outputs": [],
   "source": [
    "def optimi_minsplit (algorithm, algorithm_name, train_input, train_target, test_input, test_target, n_split_min, n_split_max, n_estimator, n_depth):\n",
    "    train_score = []; test_score = []\n",
    "    para_split = [n_split*2 for n_split in range(n_split_min, n_split_max)]\n",
    "    for v_min_samples_split in para_split:\n",
    "        # 의사결정나무 모델의 경우 트리 개수를 따로 설정하지 않기 때문에 RFC, GBC와 분리하여 모델링\n",
    "        if algorithm == DTC:\n",
    "            model = algorithm(min_samples_split = v_min_samples_split,\n",
    "                              max_depth = n_depth,\n",
    "                              random_state = 42)\n",
    "        else:\n",
    "            model = algorithm(min_samples_split = v_min_samples_split,\n",
    "                              n_estimators = n_estimator,\n",
    "                              max_depth = n_depth,\n",
    "                              random_state = 42)\n",
    "        model.fit(train_input, train_target)\n",
    "        train_score.append(model.score(train_input, train_target))\n",
    "        test_score.append(model.score(test_input, test_target))\n",
    "\n",
    "    # 분리 노드의 최소 자료 수에 따른 모델 성능 저장\n",
    "    df_score_n = pd.DataFrame({'min_samples_split': para_split, 'TrainScore': train_score, 'TestScore': test_score})\n",
    "    # 분리 노드의 최소 자료 수에 따른 모델 성능 추이 시각화 함수 호출\n",
    "    optimi_visualization(algorithm_name, para_split, train_score, test_score, \"The minimum number of samples required to split an internal node\", \"min_samples_split\")\n",
    "    print(round(df_score_n, 4))"
   ]
  },
  {
   "cell_type": "code",
   "execution_count": 33,
   "metadata": {},
   "outputs": [
    {
     "name": "stdout",
     "output_type": "stream",
     "text": [
      "    min_samples_split  TrainScore  TestScore\n",
      "0                   2      0.9880     0.9875\n",
      "1                   4      0.9878     0.9874\n",
      "2                   6      0.9878     0.9874\n",
      "3                   8      0.9878     0.9875\n",
      "4                  10      0.9878     0.9874\n",
      "5                  12      0.9877     0.9874\n",
      "6                  14      0.9877     0.9874\n",
      "7                  16      0.9877     0.9874\n",
      "8                  18      0.9877     0.9874\n",
      "9                  20      0.9877     0.9874\n",
      "10                 22      0.9877     0.9874\n",
      "11                 24      0.9877     0.9874\n",
      "12                 26      0.9877     0.9874\n",
      "13                 28      0.9877     0.9874\n",
      "14                 30      0.9877     0.9874\n",
      "15                 32      0.9877     0.9874\n",
      "16                 34      0.9877     0.9874\n",
      "17                 36      0.9877     0.9874\n",
      "18                 38      0.9877     0.9874\n",
      "19                 40      0.9877     0.9874\n",
      "20                 42      0.9877     0.9874\n",
      "21                 44      0.9877     0.9874\n",
      "22                 46      0.9877     0.9874\n",
      "23                 48      0.9877     0.9874\n",
      "24                 50      0.9877     0.9874\n",
      "25                 52      0.9877     0.9874\n",
      "26                 54      0.9877     0.9874\n",
      "27                 56      0.9877     0.9874\n",
      "28                 58      0.9877     0.9874\n",
      "29                 60      0.9877     0.9874\n",
      "30                 62      0.9877     0.9874\n",
      "31                 64      0.9877     0.9874\n",
      "32                 66      0.9877     0.9874\n",
      "33                 68      0.9877     0.9874\n",
      "34                 70      0.9877     0.9874\n",
      "35                 72      0.9877     0.9874\n",
      "36                 74      0.9877     0.9874\n",
      "37                 76      0.9877     0.9874\n",
      "38                 78      0.9877     0.9874\n",
      "39                 80      0.9877     0.9874\n",
      "40                 82      0.9877     0.9874\n",
      "41                 84      0.9877     0.9874\n",
      "42                 86      0.9877     0.9874\n",
      "43                 88      0.9877     0.9874\n",
      "44                 90      0.9877     0.9874\n",
      "45                 92      0.9877     0.9874\n",
      "46                 94      0.9877     0.9874\n",
      "47                 96      0.9877     0.9874\n",
      "48                 98      0.9877     0.9874\n",
      "49                100      0.9877     0.9874\n",
      "50                102      0.9877     0.9874\n",
      "51                104      0.9877     0.9874\n",
      "52                106      0.9877     0.9874\n",
      "53                108      0.9877     0.9874\n",
      "54                110      0.9877     0.9874\n",
      "55                112      0.9877     0.9874\n",
      "56                114      0.9877     0.9874\n",
      "57                116      0.9877     0.9874\n",
      "58                118      0.9877     0.9874\n",
      "59                120      0.9877     0.9874\n",
      "60                122      0.9877     0.9874\n",
      "61                124      0.9877     0.9874\n",
      "62                126      0.9877     0.9874\n",
      "63                128      0.9877     0.9874\n",
      "64                130      0.9877     0.9874\n",
      "65                132      0.9877     0.9874\n",
      "66                134      0.9877     0.9874\n",
      "67                136      0.9877     0.9874\n",
      "68                138      0.9877     0.9874\n",
      "69                140      0.9877     0.9874\n",
      "70                142      0.9877     0.9874\n",
      "71                144      0.9877     0.9874\n",
      "72                146      0.9877     0.9874\n",
      "73                148      0.9877     0.9874\n",
      "74                150      0.9877     0.9874\n",
      "75                152      0.9877     0.9874\n",
      "76                154      0.9877     0.9874\n",
      "77                156      0.9877     0.9874\n",
      "78                158      0.9877     0.9874\n",
      "79                160      0.9877     0.9874\n",
      "80                162      0.9877     0.9874\n",
      "81                164      0.9877     0.9874\n",
      "82                166      0.9877     0.9874\n",
      "83                168      0.9877     0.9874\n",
      "84                170      0.9877     0.9874\n",
      "85                172      0.9877     0.9874\n",
      "86                174      0.9877     0.9874\n",
      "87                176      0.9877     0.9874\n",
      "88                178      0.9877     0.9874\n",
      "89                180      0.9877     0.9874\n",
      "90                182      0.9877     0.9874\n",
      "91                184      0.9877     0.9874\n",
      "92                186      0.9877     0.9874\n",
      "93                188      0.9877     0.9874\n",
      "94                190      0.9877     0.9874\n",
      "95                192      0.9877     0.9874\n",
      "96                194      0.9877     0.9874\n",
      "97                196      0.9877     0.9874\n",
      "98                198      0.9877     0.9874\n",
      "99                200      0.9877     0.9874\n"
     ]
    },
    {
     "data": {
      "image/png": "[encoded data removed]",
      "text/plain": [
       "<Figure size 432x288 with 1 Axes>"
      ]
     },
     "metadata": {
      "needs_background": "light"
     },
     "output_type": "display_data"
    }
   ],
   "source": [
    "# depth = 9\n",
    "n_split_min = 1\n",
    "n_split_max = 101\n",
    "# 데이터프레임 행 최대 100개까지 반드시 출력\n",
    "pd.set_option('display.max_row', 100)\n",
    "optimi_minsplit (algorithm, algorithm_name,\n",
    "                 train_input, train_target, test_input, test_target,\n",
    "                 n_split_min, n_split_max, n_estimator, n_depth)\n",
    "# 분리 노드 최소 자료 수는 많고, 훈련 정확도와 검증 정확도 차이가 적은 값으로 선정하는 것이 좋다\n",
    "# 8!!!"
   ]
  },
  {
   "cell_type": "code",
   "execution_count": 34,
   "metadata": {},
   "outputs": [
    {
     "name": "stdout",
     "output_type": "stream",
     "text": [
      "    min_samples_split  TrainScore  TestScore\n",
      "0                   2      0.9880     0.9875\n",
      "1                   4      0.9878     0.9874\n",
      "2                   6      0.9878     0.9874\n",
      "3                   8      0.9878     0.9875\n",
      "4                  10      0.9878     0.9874\n",
      "5                  12      0.9877     0.9874\n",
      "6                  14      0.9877     0.9874\n",
      "7                  16      0.9877     0.9874\n",
      "8                  18      0.9877     0.9874\n",
      "9                  20      0.9877     0.9874\n",
      "10                 22      0.9877     0.9874\n",
      "11                 24      0.9877     0.9874\n",
      "12                 26      0.9877     0.9874\n",
      "13                 28      0.9877     0.9874\n",
      "14                 30      0.9877     0.9874\n",
      "15                 32      0.9877     0.9874\n",
      "16                 34      0.9877     0.9874\n",
      "17                 36      0.9877     0.9874\n",
      "18                 38      0.9877     0.9874\n",
      "19                 40      0.9877     0.9874\n",
      "20                 42      0.9877     0.9874\n",
      "21                 44      0.9877     0.9874\n",
      "22                 46      0.9877     0.9874\n",
      "23                 48      0.9877     0.9874\n",
      "24                 50      0.9877     0.9874\n",
      "25                 52      0.9877     0.9874\n",
      "26                 54      0.9877     0.9874\n",
      "27                 56      0.9877     0.9874\n",
      "28                 58      0.9877     0.9874\n",
      "29                 60      0.9877     0.9874\n",
      "30                 62      0.9877     0.9874\n",
      "31                 64      0.9877     0.9874\n",
      "32                 66      0.9877     0.9874\n",
      "33                 68      0.9877     0.9874\n",
      "34                 70      0.9877     0.9874\n",
      "35                 72      0.9877     0.9874\n",
      "36                 74      0.9877     0.9874\n",
      "37                 76      0.9877     0.9874\n",
      "38                 78      0.9877     0.9874\n",
      "39                 80      0.9877     0.9874\n",
      "40                 82      0.9877     0.9874\n",
      "41                 84      0.9877     0.9874\n",
      "42                 86      0.9877     0.9874\n",
      "43                 88      0.9877     0.9874\n",
      "44                 90      0.9877     0.9874\n",
      "45                 92      0.9877     0.9874\n",
      "46                 94      0.9877     0.9874\n",
      "47                 96      0.9877     0.9874\n",
      "48                 98      0.9877     0.9874\n",
      "49                100      0.9877     0.9874\n",
      "50                102      0.9877     0.9874\n",
      "51                104      0.9877     0.9874\n",
      "52                106      0.9877     0.9874\n",
      "53                108      0.9877     0.9874\n",
      "54                110      0.9877     0.9874\n",
      "55                112      0.9877     0.9874\n",
      "56                114      0.9877     0.9874\n",
      "57                116      0.9877     0.9874\n",
      "58                118      0.9877     0.9874\n",
      "59                120      0.9877     0.9874\n",
      "60                122      0.9877     0.9874\n",
      "61                124      0.9877     0.9874\n",
      "62                126      0.9877     0.9874\n",
      "63                128      0.9877     0.9874\n",
      "64                130      0.9877     0.9874\n",
      "65                132      0.9877     0.9874\n",
      "66                134      0.9877     0.9874\n",
      "67                136      0.9877     0.9874\n",
      "68                138      0.9877     0.9874\n",
      "69                140      0.9877     0.9874\n",
      "70                142      0.9877     0.9874\n",
      "71                144      0.9877     0.9874\n",
      "72                146      0.9877     0.9874\n",
      "73                148      0.9877     0.9874\n",
      "74                150      0.9877     0.9874\n",
      "75                152      0.9877     0.9874\n",
      "76                154      0.9877     0.9874\n",
      "77                156      0.9877     0.9874\n",
      "78                158      0.9877     0.9874\n",
      "79                160      0.9877     0.9874\n",
      "80                162      0.9877     0.9874\n",
      "81                164      0.9877     0.9874\n",
      "82                166      0.9877     0.9874\n",
      "83                168      0.9877     0.9874\n",
      "84                170      0.9877     0.9874\n",
      "85                172      0.9877     0.9874\n",
      "86                174      0.9877     0.9874\n",
      "87                176      0.9877     0.9874\n",
      "88                178      0.9877     0.9874\n",
      "89                180      0.9877     0.9874\n",
      "90                182      0.9877     0.9874\n",
      "91                184      0.9877     0.9874\n",
      "92                186      0.9877     0.9874\n",
      "93                188      0.9877     0.9874\n",
      "94                190      0.9877     0.9874\n",
      "95                192      0.9877     0.9874\n",
      "96                194      0.9877     0.9874\n",
      "97                196      0.9877     0.9874\n",
      "98                198      0.9877     0.9874\n",
      "99                200      0.9877     0.9874\n"
     ]
    },
    {
     "data": {
      "image/png": "[encoded data removed]",
      "text/plain": [
       "<Figure size 432x288 with 1 Axes>"
      ]
     },
     "metadata": {
      "needs_background": "light"
     },
     "output_type": "display_data"
    }
   ],
   "source": [
    "# depth = 8 한 번 해보기\n",
    "n_split_min = 1\n",
    "n_split_max = 101\n",
    "# 데이터프레임 행 최대 100개까지 반드시 출력\n",
    "pd.set_option('display.max_row', 100)\n",
    "optimi_minsplit (algorithm, algorithm_name,\n",
    "                 train_input, train_target, test_input, test_target,\n",
    "                 n_split_min, n_split_max, n_estimator, n_depth)"
   ]
  },
  {
   "cell_type": "code",
   "execution_count": 35,
   "metadata": {},
   "outputs": [],
   "source": [
    "# 3. 분리 노드 최소 자료 수\n",
    "n_split = 8"
   ]
  },
  {
   "cell_type": "markdown",
   "metadata": {},
   "source": [
    "### 모델 최적화 함수 : 잎사귀 노드의 최소 자료 수 선정\n",
    "\n",
    "- 잎사귀 노드 내 최소 자료 수 결정하는 함수\n",
    "- 파라미터로 입력받은 최소 자료 수의 최솟값부터 깊이를 2씩 최소 자료 수의 최댓값까지 늘려가며 모델 성능 평가\n",
    "- 앞서 작성한 시각화 함수를 호출하여 하이퍼파라미터에 따른 모델 성능 변화 추이를 시각화"
   ]
  },
  {
   "cell_type": "code",
   "execution_count": 36,
   "metadata": {},
   "outputs": [],
   "source": [
    "def optimi_minleaf(algorithm, algorithm_name, train_input, train_target, test_input, test_target, n_leaf_min, n_leaf_max, n_estimator, n_depth, n_split):\n",
    "    train_score = []; test_score = []\n",
    "    para_leaf = [n_leaf*2 for n_leaf in range(n_leaf_min, n_leaf_max)]\n",
    "\n",
    "    for v_min_samples_leaf in para_leaf:\n",
    "        # 의사결정나무 모델의 경우 트리 개수를 따로 설정하지 않기 때문에 RFC, GBC와 분리하여 모델링\n",
    "        if algorithm == DTC:\n",
    "            model = algorithm(min_samples_leaf = v_min_samples_leaf,\n",
    "                                        max_depth = n_depth,\n",
    "                                        min_samples_split = n_split,\n",
    "                                        random_state=42)\n",
    "        else:\n",
    "            model = algorithm(min_samples_leaf = v_min_samples_leaf,\n",
    "                                n_estimators = n_estimator,\n",
    "                                max_depth = n_depth,\n",
    "                                min_samples_split = n_split,\n",
    "                                random_state=42)\n",
    "        model.fit(train_input, train_target)\n",
    "        train_score.append(model.score(train_input, train_target))\n",
    "        test_score.append(model.score(test_input, test_target))\n",
    "\n",
    "    # 잎사귀 노드의 최소 자료 수에 따른 모델 성능 저장\n",
    "    df_score_n = pd.DataFrame({'min_samples_leaf': para_leaf, 'TrainScore': train_score, 'ValScore': test_score})\n",
    "    # 잎사귀 노드의 최소 자료 수에 따른 모델 성능 추이 시각화 함수 호출\n",
    "    optimi_visualization(algorithm_name, para_leaf, train_score, test_score, \"The minimum number of samples required to be at a leaf node\", \"min_samples_leaf\")\n",
    "    print(round(df_score_n, 4))"
   ]
  },
  {
   "cell_type": "code",
   "execution_count": 37,
   "metadata": {},
   "outputs": [
    {
     "name": "stdout",
     "output_type": "stream",
     "text": [
      "    min_samples_leaf  TrainScore  ValScore\n",
      "0                  2      0.9877    0.9874\n",
      "1                  4      0.9877    0.9874\n",
      "2                  6      0.9877    0.9874\n",
      "3                  8      0.9877    0.9874\n",
      "4                 10      0.9877    0.9874\n",
      "5                 12      0.9877    0.9874\n",
      "6                 14      0.9877    0.9874\n",
      "7                 16      0.9877    0.9874\n",
      "8                 18      0.9877    0.9874\n",
      "9                 20      0.9877    0.9874\n",
      "10                22      0.9877    0.9874\n",
      "11                24      0.9877    0.9874\n",
      "12                26      0.9877    0.9874\n",
      "13                28      0.9877    0.9874\n",
      "14                30      0.9877    0.9874\n",
      "15                32      0.9877    0.9874\n",
      "16                34      0.9877    0.9874\n",
      "17                36      0.9877    0.9874\n",
      "18                38      0.9877    0.9874\n",
      "19                40      0.9877    0.9874\n",
      "20                42      0.9877    0.9874\n",
      "21                44      0.9877    0.9874\n",
      "22                46      0.9877    0.9874\n",
      "23                48      0.9877    0.9874\n",
      "24                50      0.9877    0.9874\n",
      "25                52      0.9877    0.9874\n",
      "26                54      0.9877    0.9874\n",
      "27                56      0.9877    0.9874\n",
      "28                58      0.9877    0.9874\n",
      "29                60      0.9877    0.9874\n",
      "30                62      0.9877    0.9874\n",
      "31                64      0.9877    0.9874\n",
      "32                66      0.9877    0.9874\n",
      "33                68      0.9877    0.9874\n",
      "34                70      0.9877    0.9874\n",
      "35                72      0.9877    0.9874\n",
      "36                74      0.9877    0.9874\n",
      "37                76      0.9877    0.9874\n",
      "38                78      0.9877    0.9874\n",
      "39                80      0.9877    0.9874\n",
      "40                82      0.9877    0.9874\n",
      "41                84      0.9877    0.9874\n",
      "42                86      0.9877    0.9874\n",
      "43                88      0.9877    0.9874\n",
      "44                90      0.9877    0.9874\n",
      "45                92      0.9877    0.9874\n",
      "46                94      0.9877    0.9874\n",
      "47                96      0.9877    0.9874\n",
      "48                98      0.9877    0.9874\n",
      "49               100      0.9877    0.9874\n"
     ]
    },
    {
     "data": {
      "image/png": "[encoded data removed]",
      "text/plain": [
       "<Figure size 432x288 with 1 Axes>"
      ]
     },
     "metadata": {
      "needs_background": "light"
     },
     "output_type": "display_data"
    }
   ],
   "source": [
    "# n_split = 8\n",
    "n_leaf_min = 1\n",
    "n_leaf_max = 51\n",
    "optimi_minleaf(algorithm, algorithm_name, \n",
    "               train_input, train_target, test_input, test_target, \n",
    "               n_leaf_min, n_leaf_max, n_estimator, n_depth, n_split)\n",
    "# 잎사귀 노드의 최소 자료 수는 많고, 훈련 정확도와 검증 정확도의 차이가 적은 값으로 선정하는 것이 좋다\n",
    "# 잎사귀 노드의 최소 자료 수가 많아질 수록 과소적합이 일어나므로 훈련·검증 정확도 차이가 나지 않는 n_leaf = 2로 선정\n",
    "# 2!!!"
   ]
  },
  {
   "cell_type": "code",
   "execution_count": 38,
   "metadata": {},
   "outputs": [],
   "source": [
    "# 4. 잎사귀 노드의 최소 자료 수 선정\n",
    "n_leaf = 2"
   ]
  },
  {
   "cell_type": "markdown",
   "metadata": {},
   "source": [
    "### 최종 모델 학습\n",
    "\n",
    "- 앞서 구한 최적의 하이퍼파라미터를 적용하여 최종 모델 학습\n",
    "- 최종 모델 pickle 모듈로 저장\n",
    "- 모델 성능 평가 지표로서 Accuracy, Precision, Recall, F1 스코어, Confusion Matrix를 활용\n",
    "- Feature Importance 산출 후 시각화"
   ]
  },
  {
   "cell_type": "code",
   "execution_count": 39,
   "metadata": {},
   "outputs": [],
   "source": [
    "def model_final(algorithm, algorithm_name, feature_name, train_input, train_target, test_input, \n",
    "                test_target, n_estimator, n_depth, n_split, n_leaf):\n",
    "    # 의사결정나무 모델의 경우 트리 개수를 따로 설정하지 않기 때문에 RFC, GBC와 분리하여 모델링\n",
    "    if algorithm == DTC:\n",
    "        model = algorithm(random_state=42, \n",
    "                          min_samples_leaf = n_leaf,\n",
    "                          min_samples_split = n_split, \n",
    "                          max_depth = n_depth)\n",
    "    else:\n",
    "        print(\"RFC Start >>>>>>>>>>>>>>>>>>>>>>>>>>>>>>\")\n",
    "        model = algorithm(random_state = 42, \n",
    "                          n_estimators = n_estimator, \n",
    "                          min_samples_leaf = n_leaf,\n",
    "                          min_samples_split = n_split, \n",
    "                          max_depth = n_depth)\n",
    "    # 모델 학습\n",
    "    model.fit(train_input, train_target)\n",
    "    # 모델 저장\n",
    "    model_path = './model/'\n",
    "    model_filename = 'chro_' + algorithm_name + '.pkl'\n",
    "    with open(model_path + model_filename, 'wb') as f:\n",
    "        pickle.dump(model, f)\n",
    "    print(f\"최종 모델 저장 완료! 파일 경로: {model_path + model_filename}\\n\")\n",
    "    \n",
    "    # 최종 모델의 성능 평가\n",
    "    train_acc = model.score(train_input, train_target)\n",
    "    test_acc = model.score(test_input, test_target)\n",
    "    y_pred = model.predict(test_input)\n",
    "    print(f\"train_acc: {train_acc:.3f}\") # 훈련정확도\n",
    "    print(f\"Accuracy: {accuracy_score(test_target, y_pred):.3f}\") # 정확도\n",
    "    print(f\"Precision: {precision_score(test_target, y_pred):.3f}\") # 정밀도\n",
    "    print(f\"Recall: {recall_score(test_target, y_pred):.3f}\") # 재현율\n",
    "    print(f\"F1-score: {f1_score(test_target, y_pred):.3f}\") # F1 스코어\n",
    "    \n",
    "    # 혼동행렬 시각화\n",
    "    plt.figure(figsize =(30, 30))\n",
    "    plot_confusion_matrix(model, \n",
    "                         test_input,test_target,\n",
    "                         include_values = True,\n",
    "                         display_labels = ['0', '1'], # 종속변수 이름\n",
    "                         cmap = 'Pastel1') # 컬러맵\n",
    "    plt.savefig('./figure/' + algorithm_name + '_confusion_matrix.png') # 혼동행렬 자료 저장\n",
    "    plt.show()\n",
    "    \n",
    "    # 변수 중요도 산출\n",
    "    dt_importance = pd.DataFrame()\n",
    "    dt_importance['Feature'] = feature_name # 독립변수 이름\n",
    "    dt_importance['Importance'] = model.feature_importances_ # 독립변수 중요도 산출\n",
    "\n",
    "    # 변수 중요도 내림차순 정렬\n",
    "    dt_importance.sort_values(\"Importance\", ascending = False, inplace = True)\n",
    "    print(dt_importance.round(3))\n",
    "    # 변수 중요도 오름차순 정렬\n",
    "    dt_importance.sort_values(\"Importance\", ascending = True, inplace = True)\n",
    "    # 변수 중요도 시각화\n",
    "    coordinates = range(len(dt_importance)) # 독립변수 개수만큼 bar 시각화\n",
    "    plt.barh(y = coordinates, width = dt_importance[\"Importance\"])\n",
    "    plt.yticks(coordinates, dt_importance[\"Feature\"]) # y축 눈금별 독립변수 이름 기입\n",
    "    plt.xlabel(\"Feature Importance\") # x축 이름\n",
    "    plt.ylabel(\"Features\") # y축 이름\n",
    "    plt.savefig('./figure/' + algorithm_name + '_feature_importance.png') # 변수 중요도 그래프 저장"
   ]
  },
  {
   "cell_type": "code",
   "execution_count": 40,
   "metadata": {},
   "outputs": [
    {
     "name": "stdout",
     "output_type": "stream",
     "text": [
      "14840 189\n"
     ]
    }
   ],
   "source": [
    "cnt0 = 0\n",
    "cnt1 = 0\n",
    "for v in test_target :\n",
    "    if v ==1 :\n",
    "        cnt1 += 1\n",
    "    else :\n",
    "        cnt0 += 1\n",
    "\n",
    "print(cnt0, cnt1)"
   ]
  },
  {
   "cell_type": "code",
   "execution_count": 41,
   "metadata": {},
   "outputs": [
    {
     "name": "stdout",
     "output_type": "stream",
     "text": [
      "train_input =  35065\n",
      "train_target =  35065\n",
      "test_input =  15029\n",
      "test_target =  15029\n",
      "RFC Start >>>>>>>>>>>>>>>>>>>>>>>>>>>>>>\n",
      "최종 모델 저장 완료! 파일 경로: ./model/chro_rfc.pkl\n",
      "\n",
      "train_acc: 0.988\n",
      "Accuracy: 0.987\n",
      "Precision: 0.000\n",
      "Recall: 0.000\n",
      "F1-score: 0.000\n"
     ]
    },
    {
     "data": {
      "text/plain": [
       "<Figure size 2160x2160 with 0 Axes>"
      ]
     },
     "metadata": {},
     "output_type": "display_data"
    },
    {
     "data": {
      "image/png": "[encoded data removed]",
      "text/plain": [
       "<Figure size 432x288 with 2 Axes>"
      ]
     },
     "metadata": {
      "needs_background": "light"
     },
     "output_type": "display_data"
    },
    {
     "name": "stdout",
     "output_type": "stream",
     "text": [
      "   Feature  Importance\n",
      "0     Temp       0.456\n",
      "1  Voltage       0.335\n",
      "2       pH       0.209\n"
     ]
    },
    {
     "data": {
      "image/png": "[encoded data removed]",
      "text/plain": [
       "<Figure size 432x288 with 1 Axes>"
      ]
     },
     "metadata": {
      "needs_background": "light"
     },
     "output_type": "display_data"
    }
   ],
   "source": [
    "print(\"train_input = \", len(train_input))\n",
    "print(\"train_target = \", len(train_target))\n",
    "print(\"test_input = \", len(test_input))\n",
    "print(\"test_target = \", len(test_target))\n",
    "\n",
    "model_final(algorithm, algorithm_name, feature_name,\n",
    "            train_input, train_target, test_input, test_target,\n",
    "            n_estimator, n_depth, n_split, n_leaf)"
   ]
  }
 ],
 "metadata": {
  "kernelspec": {
   "display_name": "Python 3.10.8 64-bit (microsoft store)",
   "language": "python",
   "name": "python3"
  },
  "language_info": {
   "codemirror_mode": {
    "name": "ipython",
    "version": 3
   },
   "file_extension": ".py",
   "mimetype": "text/x-python",
   "name": "python",
   "nbconvert_exporter": "python",
   "pygments_lexer": "ipython3",
   "version": "3.10.8"
  },
  "orig_nbformat": 4,
  "vscode": {
   "interpreter": {
    "hash": "8bf0d51478355d2251941b3b98616086516a0eddd7c72ee47a3371765770709a"
   }
  }
 },
 "nbformat": 4,
 "nbformat_minor": 2
}
